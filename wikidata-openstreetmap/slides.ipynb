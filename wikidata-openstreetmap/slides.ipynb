{
 "cells": [
  {
   "cell_type": "markdown",
   "metadata": {
    "slideshow": {
     "slide_type": "slide"
    }
   },
   "source": [
    "# Comparing OpenStreetMap and Wikidata\n",
    "\n",
    "### Nikolai Janakiev [@njanakiev](https://twitter.com/njanakiev/)"
   ]
  },
  {
   "cell_type": "markdown",
   "metadata": {
    "slideshow": {
     "slide_type": "slide"
    }
   },
   "source": [
    "# OpenStreetMap Elements"
   ]
  },
  {
   "cell_type": "markdown",
   "metadata": {
    "slideshow": {
     "slide_type": "fragment"
    }
   },
   "source": [
    "![OSM Elements](assets/osm_elements.png)"
   ]
  },
  {
   "cell_type": "markdown",
   "metadata": {
    "slideshow": {
     "slide_type": "slide"
    }
   },
   "source": [
    "# Metadata in OpenStreetMap"
   ]
  },
  {
   "cell_type": "markdown",
   "metadata": {
    "slideshow": {
     "slide_type": "fragment"
    }
   },
   "source": [
    "![OSM Key Amenity](assets/osm_key_amenity.png)"
   ]
  },
  {
   "cell_type": "markdown",
   "metadata": {
    "slideshow": {
     "slide_type": "slide"
    }
   },
   "source": [
    "![Taginfo](assets/taginfo.png)"
   ]
  },
  {
   "cell_type": "markdown",
   "metadata": {
    "slideshow": {
     "slide_type": "slide"
    }
   },
   "source": [
    "# Wikidata is a Knowledge Graph"
   ]
  },
  {
   "cell_type": "markdown",
   "metadata": {
    "slideshow": {
     "slide_type": "fragment"
    }
   },
   "source": [
    "![Knowledge Graph](assets/knowledge_graph.png)"
   ]
  },
  {
   "cell_type": "markdown",
   "metadata": {
    "slideshow": {
     "slide_type": "slide"
    }
   },
   "source": [
    "# Semantic Web and Linked Data"
   ]
  },
  {
   "cell_type": "markdown",
   "metadata": {
    "slideshow": {
     "slide_type": "fragment"
    }
   },
   "source": [
    "- Linking data sets on the Web"
   ]
  },
  {
   "cell_type": "markdown",
   "metadata": {
    "slideshow": {
     "slide_type": "fragment"
    }
   },
   "source": [
    "- Extension of World Wide Web and a W3C standard"
   ]
  },
  {
   "cell_type": "markdown",
   "metadata": {
    "slideshow": {
     "slide_type": "fragment"
    }
   },
   "source": [
    "- Core standard: [Resource Description Format (RDF)](https://en.wikipedia.org/wiki/Resource_Description_Framework)"
   ]
  },
  {
   "cell_type": "markdown",
   "metadata": {
    "slideshow": {
     "slide_type": "fragment"
    }
   },
   "source": [
    "- __1,229 datasets__ with __16,125 links__ (as of June 2018)"
   ]
  },
  {
   "cell_type": "markdown",
   "metadata": {
    "slideshow": {
     "slide_type": "slide"
    }
   },
   "source": [
    "![Linked Open Data](assets/linked_open_data.png)\n",
    "\n",
    "[https://lod-cloud.net/](https://lod-cloud.net/)"
   ]
  },
  {
   "cell_type": "markdown",
   "metadata": {
    "slideshow": {
     "slide_type": "slide"
    }
   },
   "source": [
    "# Timeline"
   ]
  },
  {
   "cell_type": "markdown",
   "metadata": {
    "slideshow": {
     "slide_type": "fragment"
    }
   },
   "source": [
    "- __2001__ Semantic Web _(Tim Berners-Lee)_"
   ]
  },
  {
   "cell_type": "markdown",
   "metadata": {
    "slideshow": {
     "slide_type": "fragment"
    }
   },
   "source": [
    "- __2006__ Linked Data _(Tim Berners-Lee)_"
   ]
  },
  {
   "cell_type": "markdown",
   "metadata": {
    "slideshow": {
     "slide_type": "fragment"
    }
   },
   "source": [
    "- __2007__ DBPedia\n",
    "- __2007__ Freebase _(part of Google's Knowledge Graph)_"
   ]
  },
  {
   "cell_type": "markdown",
   "metadata": {
    "slideshow": {
     "slide_type": "fragment"
    }
   },
   "source": [
    "- __2012__ Wikidata _([Wikimedia Foundation](https://foundation.wikimedia.org/wiki/Home))_"
   ]
  },
  {
   "cell_type": "markdown",
   "metadata": {
    "slideshow": {
     "slide_type": "slide"
    }
   },
   "source": [
    "![Wikipedia Wikidata Link](assets/wikipedia_wikidata_link.png)"
   ]
  },
  {
   "cell_type": "markdown",
   "metadata": {
    "slideshow": {
     "slide_type": "slide"
    }
   },
   "source": [
    "![Wikidata Data Model](assets/wikidata_data_model.png)"
   ]
  },
  {
   "cell_type": "markdown",
   "metadata": {
    "slideshow": {
     "slide_type": "slide"
    }
   },
   "source": [
    "![Subject Predicate Object](assets/subject_predicate_object.png)"
   ]
  },
  {
   "cell_type": "markdown",
   "metadata": {
    "slideshow": {
     "slide_type": "slide"
    }
   },
   "source": [
    "# Querying Wikidata with SPARQL\n",
    "\n",
    "- [https://query.wikidata.org/](https://query.wikidata.org/)"
   ]
  },
  {
   "cell_type": "markdown",
   "metadata": {
    "slideshow": {
     "slide_type": "fragment"
    }
   },
   "source": [
    "![Wikidata Query](assets/wikidata_query.png)"
   ]
  },
  {
   "cell_type": "markdown",
   "metadata": {
    "slideshow": {
     "slide_type": "slide"
    }
   },
   "source": [
    "# All Windmills in Wikidata"
   ]
  },
  {
   "cell_type": "markdown",
   "metadata": {
    "slideshow": {
     "slide_type": "fragment"
    }
   },
   "source": [
    "```sparql\n",
    "SELECT ?item ?itemLabel ?image ?location ?country ?countryLabel\n",
    "WHERE {\n",
    "  ?item wdt:P31 wd:Q38720.\n",
    "  OPTIONAL { ?item wdt:P18 ?image. }\n",
    "  OPTIONAL { ?item wdt:P625 ?location. }\n",
    "  OPTIONAL { ?item wdt:P17 ?country. }\n",
    "  SERVICE wikibase:label { \n",
    "    bd:serviceParam wikibase:language \"[AUTO_LANGUAGE],en\". \n",
    "  }\n",
    "}\n",
    "```\n",
    "[Query link](https://w.wiki/5cv)"
   ]
  },
  {
   "cell_type": "markdown",
   "metadata": {
    "slideshow": {
     "slide_type": "slide"
    }
   },
   "source": [
    "![Wikidata Windmills](assets/wikidata_windmills.png)"
   ]
  },
  {
   "cell_type": "markdown",
   "metadata": {
    "slideshow": {
     "slide_type": "slide"
    }
   },
   "source": [
    "# Example Queries"
   ]
  },
  {
   "cell_type": "markdown",
   "metadata": {
    "slideshow": {
     "slide_type": "fragment"
    }
   },
   "source": [
    "- [Timeline of Space Probes](http://tinyurl.com/yawq66zp)"
   ]
  },
  {
   "cell_type": "markdown",
   "metadata": {
    "slideshow": {
     "slide_type": "fragment"
    }
   },
   "source": [
    "- [Locations of National Parks](http://tinyurl.com/y882taa8)"
   ]
  },
  {
   "cell_type": "markdown",
   "metadata": {
    "slideshow": {
     "slide_type": "fragment"
    }
   },
   "source": [
    "- [Popular Eye Colors Among Humans](http://tinyurl.com/y7yqgly3)"
   ]
  },
  {
   "cell_type": "markdown",
   "metadata": {
    "slideshow": {
     "slide_type": "slide"
    }
   },
   "source": [
    "# Linking OpenStreetMap with Wikidata?"
   ]
  },
  {
   "cell_type": "markdown",
   "metadata": {},
   "source": [
    "![OSM Wikidata Bridge](assets/osm_wikidata_bridge.jpg)\n",
    "\n",
    "[File:WdOsm-semanticBridge.jpg](https://wiki.openstreetmap.org/wiki/File:WdOsm-semanticBridge.jpg)"
   ]
  },
  {
   "cell_type": "markdown",
   "metadata": {
    "slideshow": {
     "slide_type": "slide"
    }
   },
   "source": [
    "- OpenStreetMap pointing to Wikidata entity with `wikidata=*` tag _(stable)_"
   ]
  },
  {
   "cell_type": "markdown",
   "metadata": {
    "slideshow": {
     "slide_type": "fragment"
    }
   },
   "source": [
    "- Wikidata to OpenStreetMap entity with [OSM relation ID (P402)](https://www.wikidata.org/wiki/Property:P402) _(unstable)_ \n",
    "\n",
    "- [Permanent ID](https://wiki.openstreetmap.org/wiki/Permanent_ID) proposal"
   ]
  },
  {
   "cell_type": "markdown",
   "metadata": {
    "slideshow": {
     "slide_type": "slide"
    }
   },
   "source": [
    "# Comparing OpenStreetMap and Wikidata\n",
    "\n",
    "### Nikolai Janakiev [@njanakiev](https://twitter.com/njanakiev/)\n",
    "\n",
    "- Slides @ [https://janakiev.com/wikidata-mayors/slides/](https://janakiev.com/slides/wikidata-mayors)\n",
    "\n",
    "## Resources\n",
    "\n",
    "- FOSSGIS 2016: [OpenStreetMap und Wikidata](https://www.youtube.com/watch?v=Zcv_7t7RcNM) - Michael Maier\n",
    "- FOSDEM 2019: [Linking OpenStreetMap and Wikidata A semi-automated, user-assisted editing tool](https://www.youtube.com/watch?v=UWcZ1WKXHNo) - Edward Betts"
   ]
  }
 ],
 "metadata": {
  "celltoolbar": "Slideshow",
  "kernelspec": {
   "display_name": "Python 3",
   "language": "python",
   "name": "python3"
  },
  "language_info": {
   "codemirror_mode": {
    "name": "ipython",
    "version": 3
   },
   "file_extension": ".py",
   "mimetype": "text/x-python",
   "name": "python",
   "nbconvert_exporter": "python",
   "pygments_lexer": "ipython3",
   "version": "3.6.3"
  }
 },
 "nbformat": 4,
 "nbformat_minor": 2
}

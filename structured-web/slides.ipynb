{
 "cells": [
  {
   "cell_type": "markdown",
   "metadata": {
    "slideshow": {
     "slide_type": "slide"
    }
   },
   "source": [
    "# Structured Data on the WorldWideWeb\n",
    "\n",
    "### Nikolai Janakiev [@njanakiev](https://twitter.com/njanakiev/)"
   ]
  },
  {
   "cell_type": "markdown",
   "metadata": {
    "slideshow": {
     "slide_type": "slide"
    }
   },
   "source": [
    "# Structured Data"
   ]
  },
  {
   "cell_type": "markdown",
   "metadata": {
    "slideshow": {
     "slide_type": "slide"
    }
   },
   "source": [
    "# Resource Description Format (RDF)"
   ]
  },
  {
   "cell_type": "markdown",
   "metadata": {
    "slideshow": {
     "slide_type": "fragment"
    }
   },
   "source": [
    "![subject_predicate_object](assets/subject_predicate_object.png)"
   ]
  },
  {
   "cell_type": "markdown",
   "metadata": {
    "slideshow": {
     "slide_type": "slide"
    }
   },
   "source": [
    "```xml\n",
    "<?xml version=\"1.0\"?>\n",
    "\n",
    "<rdf:RDF\n",
    "xmlns:rdf=\"http://www.w3.org/1999/02/22-rdf-syntax-ns#\"\n",
    "xmlns:si=\"https://www.w3schools.com/rdf/\">\n",
    "\n",
    "<rdf:Description rdf:about=\"https://www.w3schools.com\">\n",
    "  <si:title>W3Schools</si:title>\n",
    "  <si:author>Jan Egil Refsnes</si:author>\n",
    "</rdf:Description>\n",
    "\n",
    "</rdf:RDF> \n",
    "```"
   ]
  },
  {
   "cell_type": "markdown",
   "metadata": {
    "slideshow": {
     "slide_type": "slide"
    }
   },
   "source": [
    "# RDFa\n",
    "\n",
    "_Resource Description Framework in Attributes ([rdfa.info](http://rdfa.info/))_"
   ]
  },
  {
   "cell_type": "markdown",
   "metadata": {
    "slideshow": {
     "slide_type": "slide"
    }
   },
   "source": [
    "```html\n",
    "<html\n",
    "  xmlns=\"http://www.w3.org/1999/xhtml\"\n",
    "  xmlns:dc=\"http://purl.org/dc/terms/\"  \n",
    "  version=\"XHTML+RDFa 1.1\"\n",
    "  xml:lang=\"en\">\n",
    "  <head>\n",
    "    <base href=\"http://iricelino.org/rdfa/sample-annotated-page.html\" />\n",
    "    <title property=\"dc:title\">Sample page annotated with RDFa 1.1</title>\n",
    "    <meta property=\"dc:creator\" content=\"Irene Celino\" />\n",
    "  </head>\n",
    "  \n",
    "  <body profile=\"http://iricelino.org/rdfa/generic-profile.ttl\">\n",
    "\t<div id=\"personal\">\n",
    "\t\t<h2>Sample personal description (1)</h2>\n",
    "\t\t<p about=\"#me\" typeof=\"foaf:Person\">\n",
    "\t\t\tMy name is <span property=\"foaf:name\">John Doe</span> while my given name in Italian would be <span property=\"foaf:givenname\" xml:lang=\"it\">Giovanni</span>;\n",
    "            ...\n",
    "\t\t</p>\n",
    "\t</div>\n",
    "  </body>\n",
    "</html>\n",
    "```"
   ]
  },
  {
   "cell_type": "markdown",
   "metadata": {
    "slideshow": {
     "slide_type": "slide"
    }
   },
   "source": [
    "# Microformats"
   ]
  },
  {
   "cell_type": "markdown",
   "metadata": {
    "slideshow": {
     "slide_type": "fragment"
    }
   },
   "source": [
    "### [hCalender](http://microformats.org/wiki/hcalendar) (HTML iCalender) \n",
    "\n",
    "```html\n",
    "<span class=\"vevent\">\n",
    " <span class=\"summary\">The microformats.org site was launched</span>\n",
    " on <span class=\"dtstart\">2005-06-20</span> \n",
    " at the Supernova Conference \n",
    " in <span class=\"location\">San Francisco, CA, USA</span>.\n",
    "</span>\n",
    "```"
   ]
  },
  {
   "cell_type": "markdown",
   "metadata": {
    "slideshow": {
     "slide_type": "fragment"
    }
   },
   "source": [
    "### [hCard](http://microformats.org/wiki/hcard) (HTML vCard)\n",
    "\n",
    "```html\n",
    "<div class=\"vcard\">\n",
    " <a class=\"url fn\" href=\"http://janakiev.com/\">Nikolai Janakiev</a>\n",
    "</div>\n",
    "```"
   ]
  },
  {
   "cell_type": "markdown",
   "metadata": {
    "slideshow": {
     "slide_type": "fragment"
    }
   },
   "source": [
    "### [hRecipe](http://microformats.org/wiki/hRecipe)\n",
    "\n",
    "```html\n",
    "<p class=\"ingredient\"><span class=\"value\">125</span><span class=\"type\">ml</span> milk</p>\n",
    "```"
   ]
  },
  {
   "cell_type": "markdown",
   "metadata": {
    "slideshow": {
     "slide_type": "slide"
    }
   },
   "source": [
    "# JSON-LD\n",
    "\n",
    "_JavaScript Object Notation for Linked Data ([json-ld.org](https://json-ld.org/))_"
   ]
  },
  {
   "cell_type": "markdown",
   "metadata": {
    "slideshow": {
     "slide_type": "fragment"
    }
   },
   "source": [
    "```html\n",
    "<script type=\"application/ld+json\">\n",
    "{\n",
    "   ...\n",
    "}\n",
    "</script>\n",
    "```"
   ]
  },
  {
   "cell_type": "markdown",
   "metadata": {
    "slideshow": {
     "slide_type": "slide"
    }
   },
   "source": [
    "```json\n",
    "{\n",
    "    \"@context\":\"http://schema.org\",\n",
    "    \"@type\":\"WebSite\",\n",
    "    \"url\":\"http://janakiev.com/\",\n",
    "    \"name\":\"Nikolai Janakiev\",\n",
    "    \"author\":{\n",
    "        \"@type\":\"Person\",\n",
    "        \"name\":\"Nikolai Janakiev\"\n",
    "    },\n",
    "    \"image\":\"...\",\n",
    "    \"description\":\"...\",\n",
    "    \"sameAs\":[\n",
    "        \"https://twitter.com/njanakiev\",\n",
    "        \"https://github.com/njanakiev\",\n",
    "        ...\n",
    "    ]\n",
    "}\n",
    "```"
   ]
  },
  {
   "cell_type": "markdown",
   "metadata": {
    "slideshow": {
     "slide_type": "slide"
    }
   },
   "source": [
    "# Schema.org"
   ]
  },
  {
   "cell_type": "markdown",
   "metadata": {
    "slideshow": {
     "slide_type": "fragment"
    }
   },
   "source": [
    "Vocabulary for RDFa, Microdata and JSON-LD, founded by _Google, Microsoft, Yahoo and Yandex ([schema.org](http://schema.org/))_"
   ]
  },
  {
   "cell_type": "markdown",
   "metadata": {
    "slideshow": {
     "slide_type": "slide"
    }
   },
   "source": [
    "![Schema.org](assets/schemaorg.png)"
   ]
  },
  {
   "cell_type": "markdown",
   "metadata": {
    "slideshow": {
     "slide_type": "slide"
    }
   },
   "source": [
    "# The Open Graph protocol\n",
    "\n",
    "_Facebook Metadata ([opg.me](http://ogp.me/))_"
   ]
  },
  {
   "cell_type": "markdown",
   "metadata": {
    "slideshow": {
     "slide_type": "-"
    }
   },
   "source": [
    "![OGP](assets/opg.png)"
   ]
  },
  {
   "cell_type": "markdown",
   "metadata": {
    "slideshow": {
     "slide_type": "slide"
    }
   },
   "source": [
    "```html\n",
    "<html>\n",
    "  <head prefix=\"og: http://ogp.me/ns#\">\n",
    "    <meta charset=\"utf-8\">\n",
    "    <title>The Open Graph protocol</title>\n",
    "    <meta name=\"description\" content=\"The Open Graph protocol enables any web page to become a rich object in a social graph.\">\n",
    "    <meta property=\"og:title\" content=\"Open Graph protocol\">\n",
    "    <meta property=\"og:type\" content=\"website\">\n",
    "    <meta property=\"og:url\" content=\"http://ogp.me/\">\n",
    "    <meta property=\"og:image\" content=\"http://ogp.me/logo.png\">\n",
    "    <meta property=\"og:image:type\" content=\"image/png\">\n",
    "    <meta property=\"og:image:width\" content=\"300\">\n",
    "    <meta property=\"og:image:height\" content=\"300\">\n",
    "    <meta property=\"og:image:alt\" content=\"The Open Graph logo\">\n",
    "    <meta property=\"og:description\" content=\"The Open Graph protocol enables any web page to become a rich object in a social graph.\">\n",
    "    ...\n",
    "  </head>\n",
    "  ...\n",
    "<html>\n",
    "```"
   ]
  },
  {
   "cell_type": "markdown",
   "metadata": {
    "slideshow": {
     "slide_type": "slide"
    }
   },
   "source": [
    "# Who Actually Uses This?"
   ]
  },
  {
   "cell_type": "markdown",
   "metadata": {
    "slideshow": {
     "slide_type": "slide"
    }
   },
   "source": [
    "# Companies in Crunchbase"
   ]
  },
  {
   "cell_type": "markdown",
   "metadata": {
    "slideshow": {
     "slide_type": "fragment"
    }
   },
   "source": [
    "[Crunchbase Open Data Map](https://data.crunchbase.com/docs/open-data-map)"
   ]
  },
  {
   "cell_type": "markdown",
   "metadata": {
    "slideshow": {
     "slide_type": "slide"
    }
   },
   "source": [
    "![Crunchbase Data](assets/crunchbase_data.png)"
   ]
  },
  {
   "cell_type": "markdown",
   "metadata": {
    "slideshow": {
     "slide_type": "slide"
    }
   },
   "source": [
    "![Crunchbase Country Stats](assets/country_stats.png)"
   ]
  },
  {
   "cell_type": "markdown",
   "metadata": {
    "slideshow": {
     "slide_type": "slide"
    }
   },
   "source": [
    "![Stats](assets/stats.png)"
   ]
  },
  {
   "cell_type": "markdown",
   "metadata": {
    "slideshow": {
     "slide_type": "slide"
    }
   },
   "source": [
    "# Structured Data on the WorldWideWeb\n",
    "\n",
    "### Nikolai Janakiev [@njanakiev](https://twitter.com/njanakiev/)"
   ]
  }
 ],
 "metadata": {
  "celltoolbar": "Slideshow",
  "kernelspec": {
   "display_name": "Python 3",
   "language": "python",
   "name": "python3"
  },
  "language_info": {
   "codemirror_mode": {
    "name": "ipython",
    "version": 3
   },
   "file_extension": ".py",
   "mimetype": "text/x-python",
   "name": "python",
   "nbconvert_exporter": "python",
   "pygments_lexer": "ipython3",
   "version": "3.7.1"
  }
 },
 "nbformat": 4,
 "nbformat_minor": 2
}

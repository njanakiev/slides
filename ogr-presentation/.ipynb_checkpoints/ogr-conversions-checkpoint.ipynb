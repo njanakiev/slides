{
 "cells": [
  {
   "cell_type": "markdown",
   "metadata": {},
   "source": [
    "# Geospatial Conversions with ogr2ogr and OGR with Python\n",
    "\n",
    "- TODO"
   ]
  },
  {
   "cell_type": "markdown",
   "metadata": {},
   "source": [
    "# Geospatial File Formats\n",
    "\n",
    "- TODO\n",
    "\n",
    "## GeoJSON\n",
    "\n",
    "- TODO\n",
    "\n",
    "## ESRI Shapefile\n",
    "\n",
    "- TODO\n",
    "\n",
    "## GeoPackage and SpatiaLite\n",
    "\n",
    "- TODO\n",
    "\n",
    "## Geography Markup Language (GML) and KML\n",
    "\n",
    "This is a file format based on XML and it is defined by the Open Geospatial Consortium (OGC). Keyhole Markup Language (KML) is another popular file format which is also based on XML and is another OGC standard. It was developed for use with Google Earth.\n",
    "\n",
    "## GPS Exchange Format (GPX)\n",
    "\n",
    "If you use a GPS sportswatch or you use some GPS tracker on your phone you will come across this file format. It uses again an XML schema and it is commondly used for GPS data. You can describe waypoints, tracks and routes.\n",
    "\n",
    "## CSV\n",
    "\n",
    "Probably most common file format found on the internet, equaly dreaded and loved, is CSV. Its ubiquity has made it into the name of the fairly popular [csvconf](https://csvconf.com/) conference (no this conference does not discuss which delimiter is the best).\n",
    "\n",
    "## PostGIS\n",
    "\n",
    "- TODO"
   ]
  },
  {
   "cell_type": "markdown",
   "metadata": {},
   "source": [
    "# OGR\n",
    "\n",
    "> OGR used to stand for _OpenGIS Simple Features Reference Implementation_. However, since OGR is not fully compliant with the OpenGIS Simple Feature specification and is not approved as a reference implementation of the spec the name was changed to _OGR Simple Features Library_. The only meaning of OGR in this name is historical. OGR is also the prefix used everywhere in the source of the library for class names, filenames, etc. ([Source](https://trac.osgeo.org/gdal/wiki/FAQGeneral#WhatdoesOGRstandfor))\n",
    "\n",
    "## Installation\n",
    "\n",
    "- TODO\n",
    "\n",
    "## ogrinfo\n",
    "\n",
    "- TODO\n",
    "\n",
    "## ogr2ogr\n",
    "\n",
    "- TODO"
   ]
  },
  {
   "cell_type": "markdown",
   "metadata": {},
   "source": [
    "# OGR with Python\n",
    "\n",
    "- TODO"
   ]
  },
  {
   "cell_type": "markdown",
   "metadata": {},
   "source": [
    "# Conclusion\n",
    "\n",
    "- TODO"
   ]
  }
 ],
 "metadata": {
  "kernelspec": {
   "display_name": "Python 3",
   "language": "python",
   "name": "python3"
  },
  "language_info": {
   "codemirror_mode": {
    "name": "ipython",
    "version": 3
   },
   "file_extension": ".py",
   "mimetype": "text/x-python",
   "name": "python",
   "nbconvert_exporter": "python",
   "pygments_lexer": "ipython3",
   "version": "3.6.3"
  }
 },
 "nbformat": 4,
 "nbformat_minor": 2
}

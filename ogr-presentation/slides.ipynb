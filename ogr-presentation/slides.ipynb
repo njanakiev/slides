{
 "cells": [
  {
   "cell_type": "markdown",
   "metadata": {
    "slideshow": {
     "slide_type": "slide"
    }
   },
   "source": [
    "# Edit and Convert Geospatial Data with OGR (and Python)\n",
    "\n",
    "### Nikolai Janakiev [@njanakiev](https://twitter.com/njanakiev/)"
   ]
  },
  {
   "cell_type": "markdown",
   "metadata": {
    "slideshow": {
     "slide_type": "slide"
    }
   },
   "source": [
    "# Geospatial File Formats"
   ]
  },
  {
   "cell_type": "markdown",
   "metadata": {
    "slideshow": {
     "slide_type": "fragment"
    }
   },
   "source": [
    "### Simple Features\n",
    "\n",
    "[Open Geospatial Consortium (OGC)](http://www.opengeospatial.org/) and ISO standard for two-dimensional geometries by geographic information systems.\n",
    "\n",
    "- POINT, LINESTRING, POLYGON, MULTIPOINT, MULTILINESTRING, ..."
   ]
  },
  {
   "cell_type": "markdown",
   "metadata": {
    "slideshow": {
     "slide_type": "slide"
    }
   },
   "source": [
    "### GeoJSON\n",
    "\n",
    "Simple format based on JSON for simple features with additional attributes"
   ]
  },
  {
   "cell_type": "markdown",
   "metadata": {
    "slideshow": {
     "slide_type": "fragment"
    }
   },
   "source": [
    "```json\n",
    "{\n",
    "  \"type\": \"FeatureCollection\",\n",
    "  \"name\": \"ideaslab\",\n",
    "  \"features\": [ { \n",
    "    \"type\": \"Feature\", \n",
    "    \"geometry\": { \n",
    "       \"type\": \"Point\", \n",
    "        \"coordinates\": [ 13.03951621055603, 47.823647260665894 ] \n",
    "    },\n",
    "    \"properties\": { \n",
    "       \"title\": \"IDEAS:lab\" \n",
    "    }\n",
    "  } ]\n",
    "}\n",
    "```"
   ]
  },
  {
   "cell_type": "markdown",
   "metadata": {
    "slideshow": {
     "slide_type": "fragment"
    }
   },
   "source": [
    "### TopoJSON\n",
    "\n",
    "[TopoJSON](https://github.com/topojson/topojson) by Mike Bostock is a extension of GeoJSON encoding topology. Commonly used with [D3.js](https://d3js.org/) data visualization library."
   ]
  },
  {
   "cell_type": "markdown",
   "metadata": {
    "slideshow": {
     "slide_type": "slide"
    }
   },
   "source": [
    "### ESRI Shapefile\n",
    "\n",
    "(Mostly) open and commonly used specification by [Esri](https://www.esri.com/en-us/home). Stores vector features and attributes."
   ]
  },
  {
   "cell_type": "code",
   "execution_count": 1,
   "metadata": {
    "scrolled": true,
    "slideshow": {
     "slide_type": "fragment"
    }
   },
   "outputs": [
    {
     "name": "stdout",
     "output_type": "stream",
     "text": [
      "\u001b[01;34mchapters/\u001b[00m\r\n",
      "├── chapters.dbf\r\n",
      "├── chapters.prj\r\n",
      "├── chapters.shp\r\n",
      "└── chapters.shx\r\n",
      "\r\n",
      "0 directories, 4 files\r\n"
     ]
    }
   ],
   "source": [
    "!tree chapters/"
   ]
  },
  {
   "cell_type": "markdown",
   "metadata": {
    "slideshow": {
     "slide_type": "fragment"
    }
   },
   "source": [
    "- `.shp` - shape format: the feature geometry\n",
    "- `.shx` - shape index format\n",
    "- `.dbf` - attribute format; columnar attributes for each shape\n",
    "- `.prj` - projection format\n",
    "- and many others"
   ]
  },
  {
   "cell_type": "markdown",
   "metadata": {
    "slideshow": {
     "slide_type": "slide"
    }
   },
   "source": [
    "### GeoPackage and Spatialite\n",
    "\n",
    "- File formats based on [SQLite](https://www.sqlite.org/index.html) files.\n",
    "- Well-known binary (WKB) as geometry column\n",
    "- SpatiaLite requires additional libraries, but has more features"
   ]
  },
  {
   "cell_type": "markdown",
   "metadata": {
    "slideshow": {
     "slide_type": "fragment"
    }
   },
   "source": [
    "### PostGIS\n",
    "\n",
    "- Geospatial Extension for [PostgreSQL](https://www.postgresql.org/)"
   ]
  },
  {
   "cell_type": "markdown",
   "metadata": {
    "slideshow": {
     "slide_type": "slide"
    }
   },
   "source": [
    "### Geography Markup Language (GML) and KML\n",
    "\n",
    "- Originaly based on the [Resource Description Framework (RDF)](https://www.w3.org/RDF/) and then standardized by the OGC\n",
    "- [Keyhole Markup Language (KML)](https://developers.google.com/kml/) used for __Google Earth__ can be thought of GML with styling."
   ]
  },
  {
   "cell_type": "markdown",
   "metadata": {
    "slideshow": {
     "slide_type": "fragment"
    }
   },
   "source": [
    "```xml\n",
    "<gml:featureMember>\n",
    "  <ogr:chapters fid=\"chapters.104\">\n",
    "    <ogr:geometryProperty>\n",
    "      <gml:Point srsName=\"EPSG:4326\">\n",
    "        <gml:coordinates>13.03171,47.80918</gml:coordinates>\n",
    "      </gml:Point>\n",
    "    </ogr:geometryProperty>\n",
    "    <ogr:location>Salzburg, Austria</ogr:location>\n",
    "    <ogr:title>MaptimeSalzburg</ogr:title>\n",
    "    <ogr:twitter>MaptimeSalzburg</ogr:twitter>\n",
    "  </ogr:chapters>\n",
    "</gml:featureMember>\n",
    "```"
   ]
  },
  {
   "cell_type": "markdown",
   "metadata": {
    "slideshow": {
     "slide_type": "slide"
    }
   },
   "source": [
    "### GPS Exchange Format (GPX)\n",
    "\n",
    "Common format for GPS trackers describing waypoints, tracks and routes."
   ]
  },
  {
   "cell_type": "markdown",
   "metadata": {
    "slideshow": {
     "slide_type": "fragment"
    }
   },
   "source": [
    "```xml\n",
    "<gpx version=\"1.0\" \n",
    "     creator=\"GPSLogger 95 - http://gpslogger.mendhak.com/\" \n",
    "     xmlns:xsi=\"http://www.w3.org/2001/XMLSchema-instance\" \n",
    "     xmlns=\"http://www.topografix.com/GPX/1/0\" \n",
    "     xsi:schemaLocation=\"http://www.topografix.com/GPX/1/0 http://www.topografix.com/GPX/1/0/gpx.xsd\">\n",
    "<time>2018-10-23T07:12:32.932Z</time>\n",
    "<trk>\n",
    "  <trkseg>\n",
    "    <trkpt lat=\"47.7809697\" lon=\"13.0670005\">\n",
    "      <time>2018-10-23T07:12:32.932Z</time>\n",
    "      <src>network</src>\n",
    "    </trkpt>\n",
    "    ...\n",
    "```"
   ]
  },
  {
   "cell_type": "markdown",
   "metadata": {
    "slideshow": {
     "slide_type": "slide"
    }
   },
   "source": [
    "### Comma Seperated Values (CSV)\n",
    "\n",
    "- Additional Latitude, Longitude columns\n",
    "- [Well-known text (WKT)](https://en.wikipedia.org/wiki/Well-known_text) column"
   ]
  },
  {
   "cell_type": "markdown",
   "metadata": {
    "slideshow": {
     "slide_type": "slide"
    }
   },
   "source": [
    "# OGR Simple Features Library"
   ]
  },
  {
   "cell_type": "markdown",
   "metadata": {
    "slideshow": {
     "slide_type": "fragment"
    }
   },
   "source": [
    "- Vector Data Access\n",
    "- Part of GDAL\n",
    "- Supports the majority of geospatial vector formats and spatial databases"
   ]
  },
  {
   "cell_type": "markdown",
   "metadata": {
    "slideshow": {
     "slide_type": "slide"
    }
   },
   "source": [
    "# ogrinfo\n",
    "\n",
    "Lists information about an OGR supported data source. "
   ]
  },
  {
   "cell_type": "code",
   "execution_count": 2,
   "metadata": {
    "slideshow": {
     "slide_type": "fragment"
    }
   },
   "outputs": [
    {
     "name": "stdout",
     "output_type": "stream",
     "text": [
      "INFO: Open of `chapters.json'\r\n",
      "      using driver `GeoJSON' successful.\r\n",
      "1: chapters (Point)\r\n"
     ]
    }
   ],
   "source": [
    "!ogrinfo chapters.json"
   ]
  },
  {
   "cell_type": "code",
   "execution_count": 3,
   "metadata": {
    "slideshow": {
     "slide_type": "fragment"
    }
   },
   "outputs": [
    {
     "name": "stdout",
     "output_type": "stream",
     "text": [
      "Supported Formats:\r\n",
      "  PCIDSK -raster,vector- (rw+v): PCIDSK Database File\r\n",
      "  netCDF -raster,vector- (rw+s): Network Common Data Format\r\n",
      "  JP2OpenJPEG -raster,vector- (rwv): JPEG-2000 driver based on OpenJPEG library\r\n",
      "  PDF -raster,vector- (rw+vs): Geospatial PDF\r\n",
      "  ESRI Shapefile -vector- (rw+v): ESRI Shapefile\r\n",
      "  MapInfo File -vector- (rw+v): MapInfo File\r\n",
      "  UK .NTF -vector- (ro): UK .NTF\r\n",
      "  OGR_SDTS -vector- (ro): SDTS\r\n",
      "  S57 -vector- (rw+v): IHO S-57 (ENC)\r\n",
      "  DGN -vector- (rw+): Microstation DGN\r\n",
      "  OGR_VRT -vector- (rov): VRT - Virtual Datasource\r\n",
      "  REC -vector- (ro): EPIInfo .REC \r\n",
      "  Memory -vector- (rw+): Memory\r\n",
      "  BNA -vector- (rw+v): Atlas BNA\r\n"
     ]
    }
   ],
   "source": [
    "!ogrinfo --formats | head -n 15"
   ]
  },
  {
   "cell_type": "markdown",
   "metadata": {
    "slideshow": {
     "slide_type": "slide"
    }
   },
   "source": [
    "## Get Information about the file/database"
   ]
  },
  {
   "cell_type": "code",
   "execution_count": 4,
   "metadata": {
    "slideshow": {
     "slide_type": "fragment"
    }
   },
   "outputs": [
    {
     "name": "stdout",
     "output_type": "stream",
     "text": [
      "INFO: Open of `chapters.json'\r\n",
      "      using driver `GeoJSON' successful.\r\n",
      "\r\n",
      "Layer name: chapters\r\n",
      "Geometry: Point\r\n",
      "Feature Count: 1\r\n",
      "Extent: (-149.900000, -37.815751) - (153.026490, 69.682778)\r\n",
      "Layer SRS WKT:\r\n",
      "GEOGCS[\"WGS 84\",\r\n",
      "    DATUM[\"WGS_1984\",\r\n",
      "        SPHEROID[\"WGS 84\",6378137,298.257223563,\r\n",
      "            AUTHORITY[\"EPSG\",\"7030\"]],\r\n",
      "        AUTHORITY[\"EPSG\",\"6326\"]],\r\n",
      "    PRIMEM[\"Greenwich\",0,\r\n",
      "        AUTHORITY[\"EPSG\",\"8901\"]],\r\n",
      "    UNIT[\"degree\",0.0174532925199433,\r\n",
      "        AUTHORITY[\"EPSG\",\"9122\"]],\r\n",
      "    AUTHORITY[\"EPSG\",\"4326\"]]\r\n",
      "Geometry Column = _ogr_geometry_\r\n",
      "location: String (0.0)\r\n",
      "title: String (0.0)\r\n",
      "twitter: String (0.0)\r\n",
      "website: String (0.0)\r\n",
      "meetup: String (0.0)\r\n",
      "comingSoon: String (0.0)\r\n",
      "organizers: String (0.0)\r\n",
      "moreInfo: String (0.0)\r\n",
      "github: String (0.0)\r\n",
      "facebook: String (0.0)\r\n",
      "OGRFeature(chapters):0\r\n",
      "  location (String) = Paris, France\r\n",
      "  title (String) = MaptimeParis\r\n",
      "  twitter (String) = \r\n",
      "  website (String) = http://maptime.io/paris/\r\n",
      "  meetup (String) = \r\n",
      "  comingSoon (String) = true\r\n",
      "  organizers (String) = [ { \"name\": \"nerik\", \"twitter\": \"\" } ]\r\n",
      "  moreInfo (String) = \r\n",
      "  github (String) = \r\n",
      "  facebook (String) = \r\n",
      "  POINT (2.35176086425781 48.8629079198646)\r\n",
      "\r\n"
     ]
    }
   ],
   "source": [
    "!ogrinfo chapters.json -sql \"SELECT * FROM chapters LIMIT 1\""
   ]
  },
  {
   "cell_type": "markdown",
   "metadata": {
    "slideshow": {
     "slide_type": "slide"
    }
   },
   "source": [
    "## Get the Number of Features with SQL"
   ]
  },
  {
   "cell_type": "code",
   "execution_count": 5,
   "metadata": {
    "slideshow": {
     "slide_type": "fragment"
    }
   },
   "outputs": [
    {
     "name": "stdout",
     "output_type": "stream",
     "text": [
      "INFO: Open of `chapters.json'\n",
      "      using driver `GeoJSON' successful.\n",
      "\n",
      "Layer name: chapters\n",
      "Geometry: None\n",
      "Feature Count: 1\n",
      "Layer SRS WKT:\n",
      "(unknown)\n",
      "COUNT_*: Integer (0.0)\n",
      "OGRFeature(chapters):0\n",
      "  COUNT_* (Integer) = 111\n",
      "\n"
     ]
    }
   ],
   "source": [
    "!ogrinfo chapters.json -sql \"SELECT COUNT(*) FROM chapters\""
   ]
  },
  {
   "cell_type": "markdown",
   "metadata": {
    "slideshow": {
     "slide_type": "slide"
    }
   },
   "source": [
    "## Get a single Feature"
   ]
  },
  {
   "cell_type": "code",
   "execution_count": 6,
   "metadata": {
    "slideshow": {
     "slide_type": "fragment"
    }
   },
   "outputs": [
    {
     "name": "stdout",
     "output_type": "stream",
     "text": [
      "\r\n",
      "Layer name: chapters\r\n",
      "OGRFeature(chapters):104\r\n",
      "  location (String) = Salzburg, Austria\r\n",
      "  title (String) = MaptimeSalzburg\r\n",
      "  twitter (String) = MaptimeSalzburg\r\n",
      "  website (String) = \r\n",
      "  meetup (String) = \r\n",
      "  comingSoon (String) = \r\n",
      "  organizers (String) = [object Object],[object Object]\r\n",
      "  moreInfo (String) = \r\n",
      "  github (String) = \r\n",
      "  facebook (String) = \r\n",
      "  POINT (13.03171 47.80918)\r\n",
      "\r\n"
     ]
    }
   ],
   "source": [
    "!ogrinfo -q chapters.json \\\n",
    "    -sql \"SELECT * FROM chapters WHERE title = 'MaptimeSalzburg'\""
   ]
  },
  {
   "cell_type": "markdown",
   "metadata": {
    "slideshow": {
     "slide_type": "slide"
    }
   },
   "source": [
    "# Swiss Army Knife of GIS: ogr2ogr\n",
    "\n",
    "Converts simple features data between file formats."
   ]
  },
  {
   "cell_type": "markdown",
   "metadata": {
    "slideshow": {
     "slide_type": "fragment"
    }
   },
   "source": [
    "`ogr2ogr -f FORMAT outputfile inputfile`"
   ]
  },
  {
   "cell_type": "markdown",
   "metadata": {
    "slideshow": {
     "slide_type": "fragment"
    }
   },
   "source": [
    "- `-f \"ESRI Shapefile\"`\n",
    "- `-f \"GeoJSON\"`\n",
    "- `-f \"CSV\"`\n",
    "- `-f \"GML\"`\n",
    "- `-f \"PostgreSQL\"`\n",
    "- ..."
   ]
  },
  {
   "cell_type": "markdown",
   "metadata": {
    "slideshow": {
     "slide_type": "slide"
    }
   },
   "source": [
    "### Convert GeoJSON to GeoPackage"
   ]
  },
  {
   "cell_type": "code",
   "execution_count": 7,
   "metadata": {
    "scrolled": true,
    "slideshow": {
     "slide_type": "fragment"
    }
   },
   "outputs": [
    {
     "name": "stdout",
     "output_type": "stream",
     "text": [
      "0...10...20...30...40...50...60...70...80...90...100 - done.\r\n"
     ]
    }
   ],
   "source": [
    "!ogr2ogr -f \"GPKG\" chapters.gpkg chapters.json \\\n",
    "    -progress"
   ]
  },
  {
   "cell_type": "markdown",
   "metadata": {
    "slideshow": {
     "slide_type": "fragment"
    }
   },
   "source": [
    "### Convert GeoJSON to CSV"
   ]
  },
  {
   "cell_type": "code",
   "execution_count": 8,
   "metadata": {
    "slideshow": {
     "slide_type": "fragment"
    }
   },
   "outputs": [
    {
     "name": "stdout",
     "output_type": "stream",
     "text": [
      "0...10...20...30...40...50...60...70...80...90...100 - done.\n"
     ]
    }
   ],
   "source": [
    "!ogr2ogr -f \"CSV\" chapters.csv chapters.json \\\n",
    "    -lco GEOMETRY=AS_XY \\\n",
    "    -progress"
   ]
  },
  {
   "cell_type": "markdown",
   "metadata": {
    "slideshow": {
     "slide_type": "slide"
    }
   },
   "source": [
    "### Convert CSV to GeoJSON"
   ]
  },
  {
   "cell_type": "code",
   "execution_count": 9,
   "metadata": {
    "slideshow": {
     "slide_type": "fragment"
    }
   },
   "outputs": [
    {
     "name": "stdout",
     "output_type": "stream",
     "text": [
      "Warning 6: Progress turned off as fast feature count is not available.\r\n"
     ]
    }
   ],
   "source": [
    "!ogr2ogr -f \"GeoJSON\" chapters.json chapters.csv \\\n",
    "    -oo X_POSSIBLE_NAMES=X \\\n",
    "    -oo Y_POSSIBLE_NAMES=Y \\\n",
    "    -oo KEEP_GEOM_COLUMNS=NO \\\n",
    "    -progress"
   ]
  },
  {
   "cell_type": "markdown",
   "metadata": {
    "slideshow": {
     "slide_type": "fragment"
    }
   },
   "source": [
    "### Convert GeoJSON to PostGIS"
   ]
  },
  {
   "cell_type": "code",
   "execution_count": 10,
   "metadata": {
    "slideshow": {
     "slide_type": "fragment"
    }
   },
   "outputs": [
    {
     "name": "stdout",
     "output_type": "stream",
     "text": [
      "0...10...20...30...40...50...60...70...80...90...100 - done.\n"
     ]
    }
   ],
   "source": [
    "!ogr2ogr -f \"PostgreSQL\" PG:\"dbname='postgres' host='localhost' user='postgres' password='postgres'\" \\\n",
    "    chapters.json \\\n",
    "    -nln chapters \\\n",
    "    -progress"
   ]
  },
  {
   "cell_type": "markdown",
   "metadata": {
    "slideshow": {
     "slide_type": "slide"
    }
   },
   "source": [
    "# OGR with Python"
   ]
  },
  {
   "cell_type": "markdown",
   "metadata": {
    "slideshow": {
     "slide_type": "slide"
    }
   },
   "source": [
    "## OGR Data Drivers\n",
    "\n",
    "Driver code from [OGR Vector Formats](https://www.gdal.org/ogr_formats.html) documentation."
   ]
  },
  {
   "cell_type": "code",
   "execution_count": 11,
   "metadata": {
    "slideshow": {
     "slide_type": "fragment"
    }
   },
   "outputs": [],
   "source": [
    "from osgeo import ogr\n",
    "driver = ogr.GetDriverByName('GeoJSON')\n",
    "source = driver.Open('chapters.json')\n",
    "\n",
    "# Do something with that file\n",
    "\n",
    "source.Destroy()"
   ]
  },
  {
   "cell_type": "markdown",
   "metadata": {
    "slideshow": {
     "slide_type": "slide"
    }
   },
   "source": [
    "## Getting a Layer"
   ]
  },
  {
   "cell_type": "code",
   "execution_count": 12,
   "metadata": {
    "slideshow": {
     "slide_type": "fragment"
    }
   },
   "outputs": [
    {
     "name": "stdout",
     "output_type": "stream",
     "text": [
      "Layer : chapters\n",
      "Number of features on Layer : 111\n",
      "Extent : (-149.9, 153.02649, -37.8157510415635, 69.682778)\n"
     ]
    }
   ],
   "source": [
    "from osgeo import ogr\n",
    "\n",
    "driver = ogr.GetDriverByName('GeoJSON')\n",
    "source = driver.Open('chapters.json')\n",
    "\n",
    "layer = source.GetLayer()\n",
    "print('Layer :', layer.GetName())\n",
    "print('Number of features on Layer :', layer.GetFeatureCount())\n",
    "print('Extent :', layer.GetExtent())\n",
    "\n",
    "source.Destroy()"
   ]
  },
  {
   "cell_type": "markdown",
   "metadata": {
    "slideshow": {
     "slide_type": "slide"
    }
   },
   "source": [
    "## Getting Features and Geometry"
   ]
  },
  {
   "cell_type": "code",
   "execution_count": 13,
   "metadata": {
    "slideshow": {
     "slide_type": "fragment"
    }
   },
   "outputs": [
    {
     "name": "stdout",
     "output_type": "stream",
     "text": [
      "Title :  MaptimeParis\n",
      "Number of Fields : 10\n",
      "X: 2.35176086425781 Y: 48.8629079198646\n"
     ]
    }
   ],
   "source": [
    "from osgeo import ogr\n",
    "\n",
    "driver = ogr.GetDriverByName('GeoJSON')\n",
    "source = driver.Open('chapters.json')\n",
    "\n",
    "layer = source.GetLayer()\n",
    "feature = layer.GetNextFeature()\n",
    "print('Title : ', feature.GetField('title'))\n",
    "print('Number of Fields :', feature.GetFieldCount())\n",
    "\n",
    "# Get geometry\n",
    "geometry = feature.GetGeometryRef()\n",
    "x = geometry.GetX()\n",
    "y = geometry.GetY()\n",
    "print('X:', x, 'Y:', y)\n",
    "\n",
    "source.Destroy()"
   ]
  },
  {
   "cell_type": "markdown",
   "metadata": {
    "slideshow": {
     "slide_type": "slide"
    }
   },
   "source": [
    "## Iterating over all Features"
   ]
  },
  {
   "cell_type": "markdown",
   "metadata": {
    "slideshow": {
     "slide_type": "fragment"
    }
   },
   "source": [
    "```python\n",
    "feature = layer.GetNextFeature()\n",
    "while feature:\n",
    "    # do something here\n",
    "    feature = layer.GetNextFeature()\n",
    "```"
   ]
  },
  {
   "cell_type": "markdown",
   "metadata": {
    "slideshow": {
     "slide_type": "slide"
    }
   },
   "source": [
    "## Create a File"
   ]
  },
  {
   "cell_type": "code",
   "execution_count": 14,
   "metadata": {
    "slideshow": {
     "slide_type": "fragment"
    }
   },
   "outputs": [],
   "source": [
    "from osgeo import ogr\n",
    "\n",
    "x, y = 13.03951621055603, 47.823647260665894\n",
    "title = \"IDEAS:lab\"\n",
    "\n",
    "driver = ogr.GetDriverByName('GeoJSON')\n",
    "source = driver.CreateDataSource('ideaslab.json')\n",
    "\n",
    "# Create layer\n",
    "layer = source.CreateLayer('ideaslab', geom_type=ogr.wkbPoint)\n",
    "# Create feature\n",
    "feature = ogr.Feature(layer.GetLayerDefn())\n",
    "\n",
    "# Create field\n",
    "fieldDefn = ogr.FieldDefn('title', ogr.OFTString)\n",
    "layer.CreateField(fieldDefn)\n",
    "\n",
    "# Create geometry\n",
    "point = ogr.Geometry(ogr.wkbPoint)\n",
    "point.AddPoint(x, y)\n",
    "\n",
    "# Set geometry and field of feature\n",
    "feature.SetGeometry(point)\n",
    "feature.SetField('title', title)\n",
    "\n",
    "layer.CreateFeature(feature)\n",
    "source.Destroy()"
   ]
  },
  {
   "cell_type": "markdown",
   "metadata": {
    "slideshow": {
     "slide_type": "slide"
    }
   },
   "source": [
    "# Edit and Convert Geospatial Data with OGR (and Python)\n",
    "\n",
    "### Nikolai Janakiev [@njanakiev](https://twitter.com/njanakiev/)\n",
    "\n",
    "- Slides @ [janakiev.com/ogr-presentation/](https://janakiev.com/ogr-presentation/)\n",
    "- Repository @ [github.com/njanakiev/ogr-presentation](https://github.com/njanakiev/ogr-presentation)\n",
    "\n",
    "## Resources\n",
    "\n",
    "- [Geoprocessing with Python using Open Source GIS](https://www.gis.usu.edu/~chrisg/python/2009/)\n",
    "- [Python GDAL/OGR Cookbook](https://pcjericks.github.io/py-gdalogr-cookbook/)\n",
    "- [ogrinfo](https://www.gdal.org/ogrinfo.html)\n",
    "- [ogr2ogr](https://www.gdal.org/ogr2ogr.html)"
   ]
  }
 ],
 "metadata": {
  "celltoolbar": "Slideshow",
  "kernelspec": {
   "display_name": "Python 3",
   "language": "python",
   "name": "python3"
  },
  "language_info": {
   "codemirror_mode": {
    "name": "ipython",
    "version": 3
   },
   "file_extension": ".py",
   "mimetype": "text/x-python",
   "name": "python",
   "nbconvert_exporter": "python",
   "pygments_lexer": "ipython3",
   "version": "3.6.3"
  }
 },
 "nbformat": 4,
 "nbformat_minor": 2
}

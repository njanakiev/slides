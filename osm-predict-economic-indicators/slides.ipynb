{
 "cells": [
  {
   "cell_type": "markdown",
   "metadata": {
    "slideshow": {
     "slide_type": "slide"
    }
   },
   "source": [
    "# Predict Economic Measurements with OpenStreetMap\n",
    "### Nikolai Janakiev [@njanakiev](https://twitter.com/njanakiev/)"
   ]
  },
  {
   "cell_type": "markdown",
   "metadata": {
    "slideshow": {
     "slide_type": "slide"
    }
   },
   "source": [
    "# Measuring Economic Growth from Outer Space\n",
    "\n",
    "![eastern europe in ligths](assets/eastern_europe_in_lights.jpg)\n",
    "\n",
    "<small>Henderson, J. Vernon, Adam Storeygard, and David N. Weil. \"Measuring economic growth from outer space.\" American economic review 102.2 (2012): 994-1028.</small>"
   ]
  },
  {
   "cell_type": "markdown",
   "metadata": {
    "slideshow": {
     "slide_type": "slide"
    }
   },
   "source": [
    "# Measurements in Economics"
   ]
  },
  {
   "cell_type": "markdown",
   "metadata": {
    "slideshow": {
     "slide_type": "fragment"
    }
   },
   "source": [
    "### Gross Domestic Product (GDP)\n",
    "\n",
    "Defined by the OECD as _\"an aggregate measure of production equal to the sum of the gross value added of all resident and instituional units engaged in production.\"_"
   ]
  },
  {
   "cell_type": "markdown",
   "metadata": {
    "slideshow": {
     "slide_type": "fragment"
    }
   },
   "source": [
    "### Big Mac Index\n",
    "\n",
    "The Economist Magazine created the index in 1986 as an informal way of comparing Purchasing Power between currencies against the U.S. Dollar."
   ]
  },
  {
   "cell_type": "markdown",
   "metadata": {
    "slideshow": {
     "slide_type": "fragment"
    }
   },
   "source": [
    "### Human Development Index (HDI)\n",
    "\n",
    "Composite index consisting of life expectancy, education and per capita income indicators which are used to rank countries by their human development."
   ]
  },
  {
   "cell_type": "markdown",
   "metadata": {
    "slideshow": {
     "slide_type": "slide"
    }
   },
   "source": [
    "# Loading Data from OpenStreetMap\n",
    "\n",
    "- Using the [Overpass API](https://wiki.openstreetmap.org/wiki/Overpass_API) and the [Overpass QL](https://wiki.openstreetmap.org/wiki/Overpass_API/Overpass_QL)"
   ]
  },
  {
   "cell_type": "code",
   "execution_count": 1,
   "metadata": {
    "slideshow": {
     "slide_type": "fragment"
    }
   },
   "outputs": [
    {
     "data": {
      "text/plain": [
       "{'elements': [{'id': 0,\n",
       "   'tags': {'areas': '0',\n",
       "    'nodes': '82',\n",
       "    'relations': '0',\n",
       "    'total': '82',\n",
       "    'ways': '0'},\n",
       "   'type': 'count'}],\n",
       " 'generator': 'Overpass API 0.7.55 579b1eec',\n",
       " 'osm3s': {'copyright': 'The data included in this document is from www.openstreetmap.org. The data is made available under ODbL.',\n",
       "  'timestamp_areas_base': '2018-05-04T11:27:02Z',\n",
       "  'timestamp_osm_base': '2018-05-04T12:17:02Z'},\n",
       " 'version': 0.6}"
      ]
     },
     "execution_count": 1,
     "metadata": {},
     "output_type": "execute_result"
    }
   ],
   "source": [
    "import requests\n",
    "\n",
    "overpass_url = \"http://overpass-api.de/api/interpreter\"\n",
    "overpass_query = \"\"\"\n",
    "[out:json];\n",
    "area[\"ISO3166-1\"=\"DE\"][admin_level=2]->.search;\n",
    "node[place=\"city\"](area.search);\n",
    "out count;\"\"\"\n",
    "response = requests.get(overpass_url, params={'data': overpass_query})\n",
    "response.json()"
   ]
  },
  {
   "cell_type": "markdown",
   "metadata": {
    "slideshow": {
     "slide_type": "slide"
    }
   },
   "source": [
    "# Objective\n",
    "\n",
    "- Collect [Key:Amenity](https://wiki.openstreetmap.org/wiki/Key:amenity) data from __EU__ and __EFTA__ countries and cities\n",
    "- Compare and predict economic measurements with the amenity distribution"
   ]
  },
  {
   "cell_type": "markdown",
   "metadata": {
    "slideshow": {
     "slide_type": "slide"
    }
   },
   "source": [
    "# Amenity Distribution\n",
    "![boxplot](assets/boxplot_country_amenity.png)"
   ]
  },
  {
   "cell_type": "markdown",
   "metadata": {
    "slideshow": {
     "slide_type": "slide"
    }
   },
   "source": [
    "# Countries with most Restaurants per Person\n",
    "\n",
    "![barplot restaurant](assets/barplot_restaurant_country.png) "
   ]
  },
  {
   "cell_type": "markdown",
   "metadata": {
    "slideshow": {
     "slide_type": "subslide"
    }
   },
   "source": [
    "# Countries with most Benches per Person\n",
    "\n",
    "![barplot restaurant](assets/barplot_bench_country.png) "
   ]
  },
  {
   "cell_type": "markdown",
   "metadata": {
    "slideshow": {
     "slide_type": "slide"
    }
   },
   "source": [
    "# Correlation between Amenities and Economic Metric"
   ]
  },
  {
   "cell_type": "markdown",
   "metadata": {
    "slideshow": {
     "slide_type": "slide"
    }
   },
   "source": [
    "# Correlation between GDP and Amenities\n",
    "\n",
    "![GDP amenity](assets/barplot_corr_GDP_total.png)"
   ]
  },
  {
   "cell_type": "markdown",
   "metadata": {
    "slideshow": {
     "slide_type": "subslide"
    }
   },
   "source": [
    "# Correlation between Big Mac Dollar Price and Amenities\n",
    "\n",
    "![GDP amenity](assets/barplot_corr_BM_Dollar_total.png)"
   ]
  },
  {
   "cell_type": "markdown",
   "metadata": {
    "slideshow": {
     "slide_type": "subslide"
    }
   },
   "source": [
    "# Correlation between HDI and Amenities\n",
    "\n",
    "![GDP amenity](assets/barplot_corr_HDI_total.png)"
   ]
  },
  {
   "cell_type": "markdown",
   "metadata": {
    "slideshow": {
     "slide_type": "slide"
    }
   },
   "source": [
    "# Correlation between GDP and Amenities\n",
    "\n",
    "![GDP amenity](assets/scatter_corr_GDP.png)"
   ]
  },
  {
   "cell_type": "markdown",
   "metadata": {
    "slideshow": {
     "slide_type": "subslide"
    }
   },
   "source": [
    "# Correlation between Big Mac Dollar Price and Amenities\n",
    "\n",
    "![BM Index amenity](assets/scatter_corr_BM_Dollar.png)"
   ]
  },
  {
   "cell_type": "markdown",
   "metadata": {
    "slideshow": {
     "slide_type": "subslide"
    }
   },
   "source": [
    "# Correlation between HDI and Amenities\n",
    "\n",
    "![GDP amenity](assets/scatter_corr_HDI.png)"
   ]
  },
  {
   "cell_type": "markdown",
   "metadata": {
    "slideshow": {
     "slide_type": "slide"
    }
   },
   "source": [
    "# Relationship between Countries"
   ]
  },
  {
   "cell_type": "markdown",
   "metadata": {
    "slideshow": {
     "slide_type": "slide"
    }
   },
   "source": [
    "# T-SNE of Amenity Distribution\n",
    "\n",
    "![TSNE countries](assets/TSNE_countries.png)"
   ]
  },
  {
   "cell_type": "markdown",
   "metadata": {
    "slideshow": {
     "slide_type": "subslide"
    }
   },
   "source": [
    "# PCA of Amenity Distribution\n",
    "\n",
    "![TSNE countries](assets/PCA_countries.png)"
   ]
  },
  {
   "cell_type": "markdown",
   "metadata": {
    "slideshow": {
     "slide_type": "slide"
    }
   },
   "source": [
    "# Relationship between Cities"
   ]
  },
  {
   "cell_type": "markdown",
   "metadata": {
    "slideshow": {
     "slide_type": "slide"
    }
   },
   "source": [
    "# Amenity Distribution of Cities in Germany and France\n",
    "\n",
    "![parallel coordinates cities](assets/parallel_coordinates_city.png)"
   ]
  },
  {
   "cell_type": "markdown",
   "metadata": {
    "slideshow": {
     "slide_type": "slide"
    }
   },
   "source": [
    "# T-SNE of Amenity Distributions\n",
    "\n",
    "![TSNE cities](assets/TSNE_cities.png)"
   ]
  },
  {
   "cell_type": "markdown",
   "metadata": {
    "slideshow": {
     "slide_type": "subslide"
    }
   },
   "source": [
    "# PCA of Amenity Distributions\n",
    "\n",
    "![PCA cities](assets/PCA_cities.png)"
   ]
  },
  {
   "cell_type": "markdown",
   "metadata": {
    "slideshow": {
     "slide_type": "slide"
    }
   },
   "source": [
    "# Used Data Sets and APIs\n",
    "\n",
    "- [World Bank Open Data](https://data.worldbank.org/)\n",
    "- [wbdata](https://github.com/OliverSherouse/wbdata) Sherouse, Oliver (2014). Arlington, VA.\n",
    "- [The Big Mac Index](https://www.economist.com/content/big-mac-index)\n",
    "- [Human Development Index and its components](http://hdr.undp.org/en/composite/HDI)\n",
    "- [Human Development Data (1990-2015)](http://hdr.undp.org/en/data)\n",
    "- [OpenStreetMap](https://www.openstreetmap.org/)\n",
    "- [Taginfo](https://taginfo.openstreetmap.org/)"
   ]
  },
  {
   "cell_type": "markdown",
   "metadata": {
    "slideshow": {
     "slide_type": "slide"
    }
   },
   "source": [
    "# Predict Economic Measurements with OpenStreetMap\n",
    "\n",
    "### Nikolai Janakiev [@njanakiev](https://twitter.com/njanakiev/)\n",
    "<br>\n",
    "<center>Slides @ <a href=\"http://janakiev.com/osm-predict-economic-measurements/\"> janakiev.com/osm-predict-economic-measurements</a></center>\n",
    "<center>Repository @ <a href=\"https://github.com/njanakiev/osm-predict-economic-measurements\">github.com/njanakiev/osm-predict-economic-measurements</a></center>"
   ]
  }
 ],
 "metadata": {
  "celltoolbar": "Slideshow",
  "kernelspec": {
   "display_name": "Python 3",
   "language": "python",
   "name": "python3"
  },
  "language_info": {
   "codemirror_mode": {
    "name": "ipython",
    "version": 3
   },
   "file_extension": ".py",
   "mimetype": "text/x-python",
   "name": "python",
   "nbconvert_exporter": "python",
   "pygments_lexer": "ipython3",
   "version": "3.6.3"
  }
 },
 "nbformat": 4,
 "nbformat_minor": 2
}

{
 "cells": [
  {
   "cell_type": "code",
   "execution_count": 1,
   "metadata": {
    "slideshow": {
     "slide_type": "skip"
    }
   },
   "outputs": [],
   "source": [
    "%matplotlib inline"
   ]
  },
  {
   "cell_type": "markdown",
   "metadata": {
    "slideshow": {
     "slide_type": "slide"
    }
   },
   "source": [
    "# Data Science with OpenStreetMap and Wikidata\n",
    "\n",
    "### Nikolai Janakiev [@njanakiev](https://twitter.com/njanakiev/)"
   ]
  },
  {
   "cell_type": "markdown",
   "metadata": {
    "slideshow": {
     "slide_type": "slide"
    }
   },
   "source": [
    "# Outline"
   ]
  },
  {
   "cell_type": "markdown",
   "metadata": {
    "slideshow": {
     "slide_type": "fragment"
    }
   },
   "source": [
    "### Part I: _Wikidata and OpenStreetMap_\n",
    "\n",
    "- Difference between Wikidata and OpenStreetMap\n",
    "- Ways to connect data between Wikidata and OpenStreetMap"
   ]
  },
  {
   "cell_type": "markdown",
   "metadata": {
    "slideshow": {
     "slide_type": "fragment"
    }
   },
   "source": [
    "### Part II: _Data Science with Wikidata and OSM_\n",
    "\n",
    "- Libraries and Tools\n",
    "- Exhibition of Various Analyses and Results"
   ]
  },
  {
   "cell_type": "markdown",
   "metadata": {
    "slideshow": {
     "slide_type": "slide"
    }
   },
   "source": [
    "# OpenStreetMap Elements"
   ]
  },
  {
   "cell_type": "markdown",
   "metadata": {
    "slideshow": {
     "slide_type": "fragment"
    }
   },
   "source": [
    "![OSM Elements](assets/osm_elements.png)"
   ]
  },
  {
   "cell_type": "markdown",
   "metadata": {
    "slideshow": {
     "slide_type": "slide"
    }
   },
   "source": [
    "# Metadata in OpenStreetMap"
   ]
  },
  {
   "cell_type": "markdown",
   "metadata": {
    "slideshow": {
     "slide_type": "fragment"
    }
   },
   "source": [
    "![OSM Key Amenity](assets/osm_key_amenity.png)"
   ]
  },
  {
   "cell_type": "markdown",
   "metadata": {
    "slideshow": {
     "slide_type": "slide"
    }
   },
   "source": [
    "![OSM Salzburg](assets/osm_salzburg.png)"
   ]
  },
  {
   "cell_type": "markdown",
   "metadata": {
    "slideshow": {
     "slide_type": "slide"
    }
   },
   "source": [
    "# Wikidata is a Knowledge Graph"
   ]
  },
  {
   "cell_type": "markdown",
   "metadata": {
    "slideshow": {
     "slide_type": "fragment"
    }
   },
   "source": [
    "![Knowledge Graph](assets/knowledge_graph.png)"
   ]
  },
  {
   "cell_type": "markdown",
   "metadata": {
    "slideshow": {
     "slide_type": "slide"
    }
   },
   "source": [
    "![Wikidata Map](assets/wikidata_july_2019.png)\n",
    "[Wikidata Map July 2019](https://addshore.com/2019/07/wikidata-map-july-2019/) by Addshore"
   ]
  },
  {
   "cell_type": "markdown",
   "metadata": {
    "slideshow": {
     "slide_type": "slide"
    }
   },
   "source": [
    "# Semantic Web and Linked Data"
   ]
  },
  {
   "cell_type": "markdown",
   "metadata": {
    "slideshow": {
     "slide_type": "fragment"
    }
   },
   "source": [
    "- Linking data sets and entities on the Web"
   ]
  },
  {
   "cell_type": "markdown",
   "metadata": {
    "slideshow": {
     "slide_type": "fragment"
    }
   },
   "source": [
    "- Core W3C standard: [Resource Description Format (RDF)](https://en.wikipedia.org/wiki/Resource_Description_Framework)"
   ]
  },
  {
   "cell_type": "markdown",
   "metadata": {
    "slideshow": {
     "slide_type": "fragment"
    }
   },
   "source": [
    "- __1,229 datasets__ with __16,125 links__ (as of June 2018)"
   ]
  },
  {
   "cell_type": "markdown",
   "metadata": {
    "slideshow": {
     "slide_type": "slide"
    }
   },
   "source": [
    "![Linked Open Data](assets/linked_open_data.png)\n",
    "\n",
    "[https://lod-cloud.net/](https://lod-cloud.net/)"
   ]
  },
  {
   "cell_type": "markdown",
   "metadata": {
    "slideshow": {
     "slide_type": "slide"
    }
   },
   "source": [
    "![Wikipedia Wikidata Link](assets/wikipedia_wikidata_link.png)"
   ]
  },
  {
   "cell_type": "markdown",
   "metadata": {
    "slideshow": {
     "slide_type": "slide"
    }
   },
   "source": [
    "![Wikidata Data Model](assets/wikidata_data_model.png)"
   ]
  },
  {
   "cell_type": "markdown",
   "metadata": {
    "slideshow": {
     "slide_type": "slide"
    }
   },
   "source": [
    "# Querying Wikidata with SPARQL\n",
    "\n",
    "- [https://query.wikidata.org/](https://query.wikidata.org/)"
   ]
  },
  {
   "cell_type": "markdown",
   "metadata": {
    "slideshow": {
     "slide_type": "fragment"
    }
   },
   "source": [
    "![Wikidata Query](assets/wikidata_query.png)"
   ]
  },
  {
   "cell_type": "markdown",
   "metadata": {
    "slideshow": {
     "slide_type": "slide"
    }
   },
   "source": [
    "# All Windmills in Wikidata"
   ]
  },
  {
   "cell_type": "markdown",
   "metadata": {
    "slideshow": {
     "slide_type": "fragment"
    }
   },
   "source": [
    "```sparql\n",
    "SELECT ?item ?itemLabel ?image ?location ?country ?countryLabel\n",
    "WHERE {\n",
    "  ?item wdt:P31 wd:Q38720.\n",
    "  OPTIONAL { ?item wdt:P18 ?image. }\n",
    "  OPTIONAL { ?item wdt:P625 ?location. }\n",
    "  OPTIONAL { ?item wdt:P17 ?country. }\n",
    "  SERVICE wikibase:label { \n",
    "    bd:serviceParam wikibase:language \"[AUTO_LANGUAGE],en\". \n",
    "  }\n",
    "}\n",
    "```\n",
    "[Query link](https://w.wiki/5cv)"
   ]
  },
  {
   "cell_type": "markdown",
   "metadata": {
    "slideshow": {
     "slide_type": "slide"
    }
   },
   "source": [
    "![Wikidata Windmills](assets/wikidata_windmills.png)"
   ]
  },
  {
   "cell_type": "markdown",
   "metadata": {
    "slideshow": {
     "slide_type": "slide"
    }
   },
   "source": [
    "# Linking OpenStreetMap with Wikidata?"
   ]
  },
  {
   "cell_type": "markdown",
   "metadata": {},
   "source": [
    "![OSM Wikidata Bridge](assets/osm_wikidata_bridge.jpg)\n",
    "\n",
    "[File:WdOsm-semanticBridge.jpg](https://wiki.openstreetmap.org/wiki/File:WdOsm-semanticBridge.jpg)"
   ]
  },
  {
   "cell_type": "markdown",
   "metadata": {
    "slideshow": {
     "slide_type": "slide"
    }
   },
   "source": [
    "# OpenStreetMap to Wikidata"
   ]
  },
  {
   "cell_type": "markdown",
   "metadata": {
    "slideshow": {
     "slide_type": "fragment"
    }
   },
   "source": [
    "- `wikidata=*`, `wikipedia=*` tags _(stable)_"
   ]
  },
  {
   "cell_type": "markdown",
   "metadata": {
    "slideshow": {
     "slide_type": "fragment"
    }
   },
   "source": [
    "# Wikidata to OpenStreetMap"
   ]
  },
  {
   "cell_type": "markdown",
   "metadata": {
    "slideshow": {
     "slide_type": "fragment"
    }
   },
   "source": [
    "- [OSM relation ID (P402)](https://www.wikidata.org/wiki/Property:P402) _(unstable)_ "
   ]
  },
  {
   "cell_type": "markdown",
   "metadata": {
    "slideshow": {
     "slide_type": "fragment"
    }
   },
   "source": [
    "- [OSM tag or key (P1282)](https://www.wikidata.org/wiki/Property:P1282) mapping of OSM key-values to Wikidata entities (e.g. [lighthouse](https://www.wikidata.org/wiki/Q39715) and [Tag:man_made=lighthouse](https://wiki.openstreetmap.org/wiki/Tag:man_made=lighthouse))"
   ]
  },
  {
   "cell_type": "markdown",
   "metadata": {
    "slideshow": {
     "slide_type": "fragment"
    }
   },
   "source": [
    "- [Permanent ID](https://wiki.openstreetmap.org/wiki/Permanent_ID) proposal"
   ]
  },
  {
   "cell_type": "markdown",
   "metadata": {
    "slideshow": {
     "slide_type": "slide"
    }
   },
   "source": [
    "# Data Science"
   ]
  },
  {
   "cell_type": "markdown",
   "metadata": {
    "slideshow": {
     "slide_type": "slide"
    }
   },
   "source": [
    "# Used Tools and Libraries"
   ]
  },
  {
   "cell_type": "markdown",
   "metadata": {
    "slideshow": {
     "slide_type": "fragment"
    }
   },
   "source": [
    "- [Jupyter](https://jupyter.org/) - interactive notebook development environment\n",
    "- [PostGIS](https://postgis.net/) - spatial database extender for [PostgreSQL](http://postgresql.org/)"
   ]
  },
  {
   "cell_type": "markdown",
   "metadata": {
    "slideshow": {
     "slide_type": "fragment"
    }
   },
   "source": [
    "# Python Libraries"
   ]
  },
  {
   "cell_type": "markdown",
   "metadata": {
    "slideshow": {
     "slide_type": "fragment"
    }
   },
   "source": [
    "- [NumPy](https://www.numpy.org/) - numerical and scientific computing\n",
    "- [Pandas](https://pandas.pydata.org/) - data analysis library\n",
    "- [Matplotlib](https://matplotlib.org/) - 2D plotting library\n",
    "- [Shapely](https://shapely.readthedocs.io/en/stable/manual.html) - analysis and manipulation of [GEOS](http://trac.osgeo.org/geos/) features\n",
    "- [GeoPandas](http://geopandas.org/) - Pandas extension for spatial operations and geometric types\n",
    "- [PySAL](https://pysal.org/) - spatial analysis library\n",
    "- [Datashader](http://datashader.org/) - graphics pipeline system for large datasets\n",
    "- [Keras](https://keras.io/) - high-level deep learning library"
   ]
  },
  {
   "cell_type": "markdown",
   "metadata": {
    "slideshow": {
     "slide_type": "slide"
    }
   },
   "source": [
    "# OpenStreetMap Elements with Wikidata Tag"
   ]
  },
  {
   "cell_type": "markdown",
   "metadata": {
    "slideshow": {
     "slide_type": "slide"
    }
   },
   "source": [
    "# Getting Data From OSM with Overpass API"
   ]
  },
  {
   "cell_type": "code",
   "execution_count": 2,
   "metadata": {
    "slideshow": {
     "slide_type": "fragment"
    }
   },
   "outputs": [
    {
     "data": {
      "text/plain": [
       "{'elements': [{'id': 0,\n",
       "   'tags': {'areas': '0',\n",
       "    'nodes': '13700',\n",
       "    'relations': '616',\n",
       "    'total': '16357',\n",
       "    'ways': '2041'},\n",
       "   'type': 'count'}],\n",
       " 'generator': 'Overpass API 0.7.55.7 8b86ff77',\n",
       " 'osm3s': {'copyright': 'The data included in this document is from www.openstreetmap.org. The data is made available under ODbL.',\n",
       "  'timestamp_areas_base': '2019-08-20T23:06:02Z',\n",
       "  'timestamp_osm_base': '2019-08-20T23:35:02Z'},\n",
       " 'version': 0.6}"
      ]
     },
     "execution_count": 2,
     "metadata": {},
     "output_type": "execute_result"
    }
   ],
   "source": [
    "import requests\n",
    "\n",
    "overpass_url = \"http://overpass-api.de/api/interpreter\"\n",
    "overpass_query = \"\"\"\n",
    "    [out:json];\n",
    "    area[\"ISO3166-1\"=\"RO\"][admin_level=2]->.search;\n",
    "    (node[wikidata](area.search);\n",
    "      way[wikidata](area.search);\n",
    "      rel[wikidata](area.search);\n",
    "    );\n",
    "    out count;\"\"\"\n",
    "response = requests.get(overpass_url, params={'data': overpass_query})\n",
    "response.json()"
   ]
  },
  {
   "cell_type": "markdown",
   "metadata": {
    "slideshow": {
     "slide_type": "slide"
    }
   },
   "source": [
    "<img alt=\"wikidata europe osm points\" src=\"assets/wikidata_europe_osm_points.png\" style=\"width: 80%; height: 80%;\" />"
   ]
  },
  {
   "cell_type": "markdown",
   "metadata": {
    "slideshow": {
     "slide_type": "slide"
    }
   },
   "source": [
    "<img alt=\"osm europe wikidata\" src=\"assets/osm_europe_wikidata.png\" style=\"width: 90%; height: 90%;\" />"
   ]
  },
  {
   "cell_type": "markdown",
   "metadata": {
    "slideshow": {
     "slide_type": "slide"
    }
   },
   "source": [
    "<img alt=\"osm europe wikidata lisa clusters\" src=\"assets/osm_europe_wikidata_lisa_clusters.png\" style=\"width: 90%; height: 90%;\" />"
   ]
  },
  {
   "cell_type": "markdown",
   "metadata": {
    "slideshow": {
     "slide_type": "slide"
    }
   },
   "source": [
    "# Wikidata _Instance of_ (P31) Property"
   ]
  },
  {
   "cell_type": "markdown",
   "metadata": {
    "slideshow": {
     "slide_type": "slide"
    }
   },
   "source": [
    "# How to load Wikidata Data\n",
    "\n",
    "- https://query.wikidata.org/sparql/ SPARQL endpoint\n",
    "- [sparqldataframe](https://github.com/njanakiev/sparqldataframe/) retrieve Pandas dataframe from SPARQL query\n",
    "- [wdtools](https://github.com/njanakiev/wdtools) Wikidata utilities and tools"
   ]
  },
  {
   "cell_type": "code",
   "execution_count": 3,
   "metadata": {
    "scrolled": true,
    "slideshow": {
     "slide_type": "fragment"
    }
   },
   "outputs": [
    {
     "data": {
      "text/html": [
       "<div>\n",
       "<style scoped>\n",
       "    .dataframe tbody tr th:only-of-type {\n",
       "        vertical-align: middle;\n",
       "    }\n",
       "\n",
       "    .dataframe tbody tr th {\n",
       "        vertical-align: top;\n",
       "    }\n",
       "\n",
       "    .dataframe thead th {\n",
       "        text-align: right;\n",
       "    }\n",
       "</style>\n",
       "<table border=\"1\" class=\"dataframe\">\n",
       "  <thead>\n",
       "    <tr style=\"text-align: right;\">\n",
       "      <th></th>\n",
       "      <th>item</th>\n",
       "      <th>itemLabel</th>\n",
       "      <th>location</th>\n",
       "    </tr>\n",
       "  </thead>\n",
       "  <tbody>\n",
       "    <tr>\n",
       "      <th>0</th>\n",
       "      <td>http://www.wikidata.org/entity/Q238698</td>\n",
       "      <td>Cașolț</td>\n",
       "      <td>Point(24.28055556 45.77916667)</td>\n",
       "    </tr>\n",
       "    <tr>\n",
       "      <th>1</th>\n",
       "      <td>http://www.wikidata.org/entity/Q238916</td>\n",
       "      <td>Boholț</td>\n",
       "      <td>Point(24.91888889 45.88833333)</td>\n",
       "    </tr>\n",
       "    <tr>\n",
       "      <th>2</th>\n",
       "      <td>http://www.wikidata.org/entity/Q239159</td>\n",
       "      <td>Bodoș</td>\n",
       "      <td>Point(25.663126 46.076358)</td>\n",
       "    </tr>\n",
       "    <tr>\n",
       "      <th>3</th>\n",
       "      <td>http://www.wikidata.org/entity/Q239209</td>\n",
       "      <td>Zăuan-Băi</td>\n",
       "      <td>Point(22.644737 47.247748)</td>\n",
       "    </tr>\n",
       "    <tr>\n",
       "      <th>4</th>\n",
       "      <td>http://www.wikidata.org/entity/Q239519</td>\n",
       "      <td>Vultureni</td>\n",
       "      <td>Point(23.5574 46.9646)</td>\n",
       "    </tr>\n",
       "  </tbody>\n",
       "</table>\n",
       "</div>"
      ],
      "text/plain": [
       "                                     item  itemLabel  \\\n",
       "0  http://www.wikidata.org/entity/Q238698     Cașolț   \n",
       "1  http://www.wikidata.org/entity/Q238916     Boholț   \n",
       "2  http://www.wikidata.org/entity/Q239159      Bodoș   \n",
       "3  http://www.wikidata.org/entity/Q239209  Zăuan-Băi   \n",
       "4  http://www.wikidata.org/entity/Q239519  Vultureni   \n",
       "\n",
       "                         location  \n",
       "0  Point(24.28055556 45.77916667)  \n",
       "1  Point(24.91888889 45.88833333)  \n",
       "2      Point(25.663126 46.076358)  \n",
       "3      Point(22.644737 47.247748)  \n",
       "4          Point(23.5574 46.9646)  "
      ]
     },
     "execution_count": 3,
     "metadata": {},
     "output_type": "execute_result"
    }
   ],
   "source": [
    "import sparqldataframe\n",
    "\n",
    "query = \"\"\"\n",
    "    SELECT ?item ?itemLabel ?location WHERE {\n",
    "      ?item wdt:P31 wd:Q532.\n",
    "      ?item wdt:P17 wd:Q218.\n",
    "      ?item wdt:P625 ?location.\n",
    "      SERVICE wikibase:label { \n",
    "        bd:serviceParam wikibase:language \"[AUTO_LANGUAGE],en\". \n",
    "      }\n",
    "    }\"\"\"\n",
    "\n",
    "df = sparqldataframe.wikidata_query(query)\n",
    "df.head()"
   ]
  },
  {
   "cell_type": "markdown",
   "metadata": {
    "slideshow": {
     "slide_type": "slide"
    }
   },
   "source": [
    "## Create and Plot GeoPandas Dataframe"
   ]
  },
  {
   "cell_type": "code",
   "execution_count": 4,
   "metadata": {
    "slideshow": {
     "slide_type": "fragment"
    }
   },
   "outputs": [
    {
     "data": {
      "image/png": "[encoded data removed]",
      "text/plain": [
       "<Figure size 864x432 with 1 Axes>"
      ]
     },
     "metadata": {},
     "output_type": "display_data"
    }
   ],
   "source": [
    "import geopandas as gpd\n",
    "import shapely.wkt\n",
    "\n",
    "df['location'] = df['location'].apply(shapely.wkt.loads)\n",
    "gdf = gpd.GeoDataFrame(df, geometry='location', crs={'init': 'epsg:4326'})\n",
    "\n",
    "ax = gdf.to_crs(epsg=3875).plot(figsize=(12, 6), color='k', markersize=0.8)\n",
    "ax.set_title('Romanian Villages in Wikidata', fontsize=15)\n",
    "ax.set_axis_off()"
   ]
  },
  {
   "cell_type": "markdown",
   "metadata": {
    "slideshow": {
     "slide_type": "slide"
    }
   },
   "source": [
    "<img alt=\"wikidata europe points\" src=\"assets/wikidata_europe_points.png\" style=\"width: 80%; height: 80%;\" />"
   ]
  },
  {
   "cell_type": "markdown",
   "metadata": {
    "slideshow": {
     "slide_type": "slide"
    }
   },
   "source": [
    "<img alt=\"wikidata europe most common instances\" src=\"assets/wikidata_europe_most_common_instances.png\" style=\"width: 90%; height: 90%;\" />"
   ]
  },
  {
   "cell_type": "markdown",
   "metadata": {
    "slideshow": {
     "slide_type": "slide"
    }
   },
   "source": [
    "<img alt=\"wikidata europe companies most common instances\" src=\"assets/wikidata_europe_companies_most_common_instances.png\" style=\"width: 90%; height: 90%;\" />"
   ]
  },
  {
   "cell_type": "markdown",
   "metadata": {
    "slideshow": {
     "slide_type": "slide"
    }
   },
   "source": [
    "<img alt=\"wikidata uk companies most common instances\" src=\"assets/wikidata_uk_companies_most_common_instances.png\" style=\"width: 90%; height: 90%;\" />"
   ]
  },
  {
   "cell_type": "markdown",
   "metadata": {
    "slideshow": {
     "slide_type": "slide"
    }
   },
   "source": [
    "# Analyzing Websites Regionally"
   ]
  },
  {
   "cell_type": "markdown",
   "metadata": {
    "slideshow": {
     "slide_type": "fragment"
    }
   },
   "source": [
    "<blockquote class=\"twitter-tweet\" data-lang=\"en-gb\"><p lang=\"en\" dir=\"ltr\">I like how everyone is saying that jQuery is dead and at the same time - it powers 70% of the Web</p>&mdash; Tomasz Łakomy (@tlakomy) <a href=\"https://twitter.com/tlakomy/status/1141327543699726336?ref_src=twsrc%5Etfw\">19 June 2019</a></blockquote>\n",
    "<script async src=\"https://platform.twitter.com/widgets.js\" charset=\"utf-8\"></script>"
   ]
  },
  {
   "cell_type": "markdown",
   "metadata": {
    "slideshow": {
     "slide_type": "slide"
    }
   },
   "source": [
    "# How to Get the Scripts in a Website"
   ]
  },
  {
   "cell_type": "code",
   "execution_count": 5,
   "metadata": {
    "slideshow": {
     "slide_type": "fragment"
    }
   },
   "outputs": [
    {
     "name": "stdout",
     "output_type": "stream",
     "text": [
      "polyfill.min.js\n",
      "ol.js\n",
      "olms.js\n",
      "addthis_widget.js#pubid=ra-5409a75e4d21936e\n",
      "jquery.min.js\n",
      "scripts.min.js\n",
      "bundle.js\n",
      "wp-embed.min.js\n"
     ]
    }
   ],
   "source": [
    "import requests\n",
    "from bs4 import BeautifulSoup\n",
    "\n",
    "url = \"https://www.osgeo.org/\"\n",
    "response = requests.get(url)\n",
    "\n",
    "soup = BeautifulSoup(response.text, 'html.parser')\n",
    "for script in soup.find_all('script'):\n",
    "    src = script.attrs.get('src')\n",
    "    \n",
    "    if src is not None:\n",
    "        # Remove everything before slash\n",
    "        src = src.split('/')[-1]\n",
    "        \n",
    "        # Remove url parameters\n",
    "        src = src.split('?')[0]\n",
    "        \n",
    "        print(src)"
   ]
  },
  {
   "cell_type": "markdown",
   "metadata": {
    "slideshow": {
     "slide_type": "slide"
    }
   },
   "source": [
    "<img alt=\"websites percentage jquery histogram\" src=\"assets/websites_percentage_jquery_histogram.png\" style=\"width: 90%; height: 90%;\" />"
   ]
  },
  {
   "cell_type": "markdown",
   "metadata": {
    "slideshow": {
     "slide_type": "slide"
    }
   },
   "source": [
    "<img alt=\"websites percentage jquery\" src=\"assets/websites_percentage_jquery.png\" style=\"width: 90%; height: 90%;\" />"
   ]
  },
  {
   "cell_type": "markdown",
   "metadata": {
    "slideshow": {
     "slide_type": "slide"
    }
   },
   "source": [
    "<img alt=\"websites percentage jquery\" src=\"assets/websites_percentage_jquery_lisa_clusters.png\" />"
   ]
  },
  {
   "cell_type": "markdown",
   "metadata": {
    "slideshow": {
     "slide_type": "slide"
    }
   },
   "source": [
    "# Image Classification with Keras\n",
    "\n",
    "- [Keras Applications](https://keras.io/applications/)"
   ]
  },
  {
   "cell_type": "code",
   "execution_count": 2,
   "metadata": {
    "slideshow": {
     "slide_type": "skip"
    }
   },
   "outputs": [],
   "source": [
    "import warnings\n",
    "warnings.simplefilter(action='ignore', category=FutureWarning)"
   ]
  },
  {
   "cell_type": "code",
   "execution_count": 3,
   "metadata": {
    "scrolled": true,
    "slideshow": {
     "slide_type": "slide"
    }
   },
   "outputs": [
    {
     "name": "stderr",
     "output_type": "stream",
     "text": [
      "Using TensorFlow backend.\n"
     ]
    },
    {
     "data": {
      "image/png": "[encoded data removed]",
      "text/plain": [
       "<Figure size 432x288 with 1 Axes>"
      ]
     },
     "metadata": {},
     "output_type": "display_data"
    }
   ],
   "source": [
    "import numpy as np\n",
    "import matplotlib.pyplot as plt\n",
    "from keras.applications import vgg16\n",
    "from keras.preprocessing.image import load_img, img_to_array\n",
    "\n",
    "# load model weights\n",
    "vgg_model = vgg16.VGG16(weights='imagenet')\n",
    "\n",
    "# load and transform image\n",
    "original = load_img('assets/cat.jpg', target_size=(224, 224))\n",
    "numpy_image = img_to_array(original)\n",
    "image_batch = np.expand_dims(numpy_image, axis=0)\n",
    "\n",
    "plt.imshow(np.uint8(numpy_image))"
   ]
  },
  {
   "cell_type": "markdown",
   "metadata": {
    "slideshow": {
     "slide_type": "slide"
    }
   },
   "source": [
    "# Predicting the Class Labels"
   ]
  },
  {
   "cell_type": "code",
   "execution_count": 4,
   "metadata": {
    "slideshow": {
     "slide_type": "fragment"
    }
   },
   "outputs": [
    {
     "data": {
      "text/plain": [
       "[[('n03942813', 'ping-pong_ball', 0.107420415),\n",
       "  ('n02123597', 'Siamese_cat', 0.09706449),\n",
       "  ('n03793489', 'mouse', 0.05626433),\n",
       "  ('n03255030', 'dumbbell', 0.05423481),\n",
       "  ('n02123394', 'Persian_cat', 0.050410405)]]"
      ]
     },
     "execution_count": 4,
     "metadata": {},
     "output_type": "execute_result"
    }
   ],
   "source": [
    "from keras.applications.imagenet_utils import decode_predictions\n",
    "\n",
    "# prepare the image for the VGG model\n",
    "processed_image = vgg16.preprocess_input(image_batch.copy())\n",
    "\n",
    "# get the predicted probabilities for each class\n",
    "predictions = vgg_model.predict(processed_image)\n",
    "\n",
    "# convert the probabilities to class labels\n",
    "labels = decode_predictions(predictions)\n",
    "labels"
   ]
  },
  {
   "cell_type": "markdown",
   "metadata": {
    "slideshow": {
     "slide_type": "slide"
    }
   },
   "source": [
    "## Classifying Wikimedia Commons Images"
   ]
  },
  {
   "cell_type": "markdown",
   "metadata": {
    "slideshow": {
     "slide_type": "fragment"
    }
   },
   "source": [
    "![wikidata companies images classification](assets/wikidata_companies_images_classification.png)"
   ]
  },
  {
   "cell_type": "markdown",
   "metadata": {
    "slideshow": {
     "slide_type": "slide"
    }
   },
   "source": [
    "# Data Science with OpenStreetMap and Wikidata\n",
    "\n",
    "### Nikolai Janakiev [@njanakiev](https://twitter.com/njanakiev/)\n",
    "\n",
    "- Slides @ [https://janakiev.com/slides/data-science-osm-wikidata](https://janakiev.com/slides/wikidata-mayors)\n",
    "\n",
    "## Resources\n",
    "\n",
    "- [Wikidata - OpenStreetMap Wiki](https://wiki.openstreetmap.org/wiki/Wikidata)\n",
    "- FOSSGIS 2016: [OpenStreetMap und Wikidata](https://www.youtube.com/watch?v=Zcv_7t7RcNM) - Michael Maier\n",
    "- FOSDEM 2019: [Linking OpenStreetMap and Wikidata A semi-automated, user-assisted editing tool](https://www.youtube.com/watch?v=UWcZ1WKXHNo) - Edward Betts\n",
    "- [WDTools](https://github.com/njanakiev/wdtools) - Wikidata Utilities and Tools"
   ]
  }
 ],
 "metadata": {
  "celltoolbar": "Slideshow",
  "kernelspec": {
   "display_name": "Python 3",
   "language": "python",
   "name": "python3"
  },
  "language_info": {
   "codemirror_mode": {
    "name": "ipython",
    "version": 3
   },
   "file_extension": ".py",
   "mimetype": "text/x-python",
   "name": "python",
   "nbconvert_exporter": "python",
   "pygments_lexer": "ipython3",
   "version": "3.6.3"
  }
 },
 "nbformat": 4,
 "nbformat_minor": 2
}

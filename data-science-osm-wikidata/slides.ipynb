{
 "cells": [
  {
   "cell_type": "code",
   "execution_count": 1,
   "metadata": {
    "slideshow": {
     "slide_type": "skip"
    }
   },
   "outputs": [],
   "source": [
    "%matplotlib inline"
   ]
  },
  {
   "cell_type": "markdown",
   "metadata": {
    "slideshow": {
     "slide_type": "slide"
    }
   },
   "source": [
    "# Data Science with OpenStreetMap and Wikidata\n",
    "\n",
    "### Nikolai Janakiev [@njanakiev](https://twitter.com/njanakiev/)"
   ]
  },
  {
   "cell_type": "markdown",
   "metadata": {
    "slideshow": {
     "slide_type": "slide"
    }
   },
   "source": [
    "# Outline"
   ]
  },
  {
   "cell_type": "markdown",
   "metadata": {
    "slideshow": {
     "slide_type": "fragment"
    }
   },
   "source": [
    "### Part I: _Wikidata and OpenStreetMap_\n",
    "\n",
    "- Difference between Wikidata and OpenStreetMap\n",
    "- Ways to connect data between Wikidata and OpenStreetMap"
   ]
  },
  {
   "cell_type": "markdown",
   "metadata": {
    "slideshow": {
     "slide_type": "fragment"
    }
   },
   "source": [
    "### Part II: _Data Science with Wikidata and OSM_\n",
    "\n",
    "- Libraries and Tools\n",
    "- Exhibition of Various Analyses and Results"
   ]
  },
  {
   "cell_type": "markdown",
   "metadata": {
    "slideshow": {
     "slide_type": "slide"
    }
   },
   "source": [
    "# OpenStreetMap Elements"
   ]
  },
  {
   "cell_type": "markdown",
   "metadata": {
    "slideshow": {
     "slide_type": "fragment"
    }
   },
   "source": [
    "![OSM Elements](assets/osm_elements.png)"
   ]
  },
  {
   "cell_type": "markdown",
   "metadata": {
    "slideshow": {
     "slide_type": "slide"
    }
   },
   "source": [
    "# Metadata in OpenStreetMap"
   ]
  },
  {
   "cell_type": "markdown",
   "metadata": {
    "slideshow": {
     "slide_type": "fragment"
    }
   },
   "source": [
    "![OSM Key Amenity](assets/osm_key_amenity.png)"
   ]
  },
  {
   "cell_type": "markdown",
   "metadata": {
    "slideshow": {
     "slide_type": "slide"
    }
   },
   "source": [
    "![OSM Salzburg](assets/osm_salzburg.png)"
   ]
  },
  {
   "cell_type": "markdown",
   "metadata": {
    "slideshow": {
     "slide_type": "slide"
    }
   },
   "source": [
    "# Wikidata is a Knowledge Graph"
   ]
  },
  {
   "cell_type": "markdown",
   "metadata": {
    "slideshow": {
     "slide_type": "fragment"
    }
   },
   "source": [
    "![Wikipedia Wikidata Link](assets/wikipedia_wikidata_link.png)"
   ]
  },
  {
   "cell_type": "markdown",
   "metadata": {
    "slideshow": {
     "slide_type": "slide"
    }
   },
   "source": [
    "![Wikidata Data Model](assets/wikidata_data_model.png)"
   ]
  },
  {
   "cell_type": "markdown",
   "metadata": {
    "slideshow": {
     "slide_type": "slide"
    }
   },
   "source": [
    "![wikidata linked data graph](assets/wikidata_linked_data_graph.png)"
   ]
  },
  {
   "cell_type": "markdown",
   "metadata": {
    "slideshow": {
     "slide_type": "slide"
    }
   },
   "source": [
    "# Querying Wikidata with SPARQL\n",
    "\n",
    "- [https://query.wikidata.org/](https://query.wikidata.org/)"
   ]
  },
  {
   "cell_type": "markdown",
   "metadata": {
    "slideshow": {
     "slide_type": "fragment"
    }
   },
   "source": [
    "![Wikidata Query](assets/wikidata_query.png)"
   ]
  },
  {
   "cell_type": "markdown",
   "metadata": {
    "slideshow": {
     "slide_type": "slide"
    }
   },
   "source": [
    "# All Windmills in Wikidata"
   ]
  },
  {
   "cell_type": "markdown",
   "metadata": {
    "slideshow": {
     "slide_type": "fragment"
    }
   },
   "source": [
    "```sparql\n",
    "SELECT ?item ?itemLabel ?image ?location ?country ?countryLabel\n",
    "WHERE {\n",
    "  ?item wdt:P31 wd:Q38720.\n",
    "  OPTIONAL { ?item wdt:P18 ?image. }\n",
    "  OPTIONAL { ?item wdt:P625 ?location. }\n",
    "  OPTIONAL { ?item wdt:P17 ?country. }\n",
    "  SERVICE wikibase:label { \n",
    "    bd:serviceParam wikibase:language \"[AUTO_LANGUAGE],en\". \n",
    "  }\n",
    "}\n",
    "```\n",
    "[Query link](https://w.wiki/5cv)"
   ]
  },
  {
   "cell_type": "markdown",
   "metadata": {
    "slideshow": {
     "slide_type": "slide"
    }
   },
   "source": [
    "![Wikidata Windmills](assets/wikidata_windmills.png)"
   ]
  },
  {
   "cell_type": "markdown",
   "metadata": {
    "slideshow": {
     "slide_type": "slide"
    }
   },
   "source": [
    "# OpenStreetMap and Wikidata in Numbers"
   ]
  },
  {
   "cell_type": "markdown",
   "metadata": {
    "slideshow": {
     "slide_type": "fragment"
    }
   },
   "source": [
    "### OpenStreetMap ([Source](https://www.openstreetmap.org/stats/data_stats.html))\n",
    "\n",
    "- __Started 2004__\n",
    "- Number of users: __5,630,923__\n",
    "- Number of uploaded GPS points: __7,459,170,764__\n",
    "- Number of nodes: __5,424,072,098__\n",
    "- Number of ways: __601,538,972__\n",
    "- Number of relations: __7,038,670__"
   ]
  },
  {
   "cell_type": "markdown",
   "metadata": {
    "slideshow": {
     "slide_type": "fragment"
    }
   },
   "source": [
    "### Wikidata ([Source](https://www.wikidata.org/wiki/Wikidata:Statistics))\n",
    "\n",
    "- __Started 2012__\n",
    "- Number of active users: __20,798__\n",
    "- Number of items: __59,218,423__\n",
    "- Number of edits: __1,000,545,117__"
   ]
  },
  {
   "cell_type": "markdown",
   "metadata": {
    "slideshow": {
     "slide_type": "slide"
    }
   },
   "source": [
    "# Linking OpenStreetMap with Wikidata?"
   ]
  },
  {
   "cell_type": "markdown",
   "metadata": {},
   "source": [
    "![OSM Wikidata Bridge](assets/osm_wikidata_bridge.jpg)\n",
    "\n",
    "[File:WdOsm-semanticBridge.jpg](https://wiki.openstreetmap.org/wiki/File:WdOsm-semanticBridge.jpg)"
   ]
  },
  {
   "cell_type": "markdown",
   "metadata": {
    "slideshow": {
     "slide_type": "slide"
    }
   },
   "source": [
    "# OpenStreetMap to Wikidata"
   ]
  },
  {
   "cell_type": "markdown",
   "metadata": {
    "slideshow": {
     "slide_type": "fragment"
    }
   },
   "source": [
    "- `wikidata=*` tag _(stable)_"
   ]
  },
  {
   "cell_type": "markdown",
   "metadata": {
    "slideshow": {
     "slide_type": "fragment"
    }
   },
   "source": [
    "# Wikidata to OpenStreetMap"
   ]
  },
  {
   "cell_type": "markdown",
   "metadata": {
    "slideshow": {
     "slide_type": "fragment"
    }
   },
   "source": [
    "- [OSM relation ID (P402)](https://www.wikidata.org/wiki/Property:P402), in total __97704__ entities  _(unstable)_ <br><font color=\"red\"><b>Note:</b> Should not be used for <b>Nodes, Ways or Areas</b></font>"
   ]
  },
  {
   "cell_type": "markdown",
   "metadata": {
    "slideshow": {
     "slide_type": "fragment"
    }
   },
   "source": [
    "- [Permanent ID](https://wiki.openstreetmap.org/wiki/Permanent_ID) proposal"
   ]
  },
  {
   "cell_type": "markdown",
   "metadata": {
    "slideshow": {
     "slide_type": "fragment"
    }
   },
   "source": [
    "- [OSM tag or key (P1282)](https://www.wikidata.org/wiki/Property:P1282) mapping of OSM key-values to Wikidata entities, in total __1862__ entities (e.g. [lighthouse](https://www.wikidata.org/wiki/Q39715) and [Tag:man_made=lighthouse](https://wiki.openstreetmap.org/wiki/Tag:man_made=lighthouse))"
   ]
  },
  {
   "cell_type": "markdown",
   "metadata": {
    "slideshow": {
     "slide_type": "slide"
    }
   },
   "source": [
    "# Data Science\n",
    "\n",
    "- Donoho, David. [\"50 years of data science.\"](https://www.tandfonline.com/doi/full/10.1080/10618600.2017.1384734) Journal of Computational and Graphical Statistics 26.4 (2017): 745-766."
   ]
  },
  {
   "cell_type": "markdown",
   "metadata": {
    "slideshow": {
     "slide_type": "slide"
    }
   },
   "source": [
    "# Used Tools and Libraries"
   ]
  },
  {
   "cell_type": "markdown",
   "metadata": {
    "slideshow": {
     "slide_type": "fragment"
    }
   },
   "source": [
    "- [Jupyter](https://jupyter.org/) - interactive notebook development environment\n",
    "- [PostGIS](https://postgis.net/) - spatial database extender for [PostgreSQL](http://postgresql.org/)\n",
    "- [GDAL ogr2ogr](https://gdal.org/programs/ogr2ogr.html) - converting simple features between file formats"
   ]
  },
  {
   "cell_type": "markdown",
   "metadata": {
    "slideshow": {
     "slide_type": "fragment"
    }
   },
   "source": [
    "# Python Libraries"
   ]
  },
  {
   "cell_type": "markdown",
   "metadata": {
    "slideshow": {
     "slide_type": "fragment"
    }
   },
   "source": [
    "- [NumPy](https://www.numpy.org/) - numerical and scientific computing\n",
    "- [Pandas](https://pandas.pydata.org/) - data analysis library\n",
    "- [Matplotlib](https://matplotlib.org/) - 2D plotting library\n",
    "- [Shapely](https://shapely.readthedocs.io/en/stable/manual.html) - analysis and manipulation of [GEOS](http://trac.osgeo.org/geos/) features\n",
    "- [GeoPandas](http://geopandas.org/) - Pandas extension for spatial operations and geometric types\n",
    "- [PySAL](https://pysal.org/) - spatial analysis library\n",
    "- [Datashader](http://datashader.org/) - graphics pipeline system for large datasets"
   ]
  },
  {
   "cell_type": "markdown",
   "metadata": {
    "slideshow": {
     "slide_type": "slide"
    }
   },
   "source": [
    "# OpenStreetMap Elements with Wikidata Tag"
   ]
  },
  {
   "cell_type": "markdown",
   "metadata": {
    "slideshow": {
     "slide_type": "slide"
    }
   },
   "source": [
    "<img alt=\"wikidata europe osm points\" src=\"assets/wikidata_europe_osm_points.png\" style=\"width: 80%; height: 80%;\" />"
   ]
  },
  {
   "cell_type": "markdown",
   "metadata": {
    "slideshow": {
     "slide_type": "slide"
    }
   },
   "source": [
    "<img alt=\"osm europe wikidata\" src=\"assets/osm_europe_wikidata.png\" style=\"width: 90%; height: 90%;\" />"
   ]
  },
  {
   "cell_type": "markdown",
   "metadata": {
    "slideshow": {
     "slide_type": "slide"
    }
   },
   "source": [
    "<img alt=\"osm europe wikidata lisa clusters\" src=\"assets/osm_europe_wikidata_lisa_clusters.png\" style=\"width: 90%; height: 90%;\" />"
   ]
  },
  {
   "cell_type": "markdown",
   "metadata": {
    "slideshow": {
     "slide_type": "slide"
    }
   },
   "source": [
    "# Wikidata _Instance of_ (P31) Property"
   ]
  },
  {
   "cell_type": "markdown",
   "metadata": {
    "slideshow": {
     "slide_type": "slide"
    }
   },
   "source": [
    "<img alt=\"wikidata europe points\" src=\"assets/wikidata_europe_points.png\" style=\"width: 80%; height: 80%;\" />"
   ]
  },
  {
   "cell_type": "markdown",
   "metadata": {
    "slideshow": {
     "slide_type": "slide"
    }
   },
   "source": [
    "<img alt=\"wikidata europe most common instances\" src=\"assets/wikidata_europe_most_common_instances.png\" style=\"width: 90%; height: 90%;\" />"
   ]
  },
  {
   "cell_type": "markdown",
   "metadata": {
    "slideshow": {
     "slide_type": "slide"
    }
   },
   "source": [
    "<img alt=\"wikidata europe companies most common instances\" src=\"assets/wikidata_europe_companies_most_common_instances.png\" style=\"width: 90%; height: 90%;\" />"
   ]
  },
  {
   "cell_type": "markdown",
   "metadata": {
    "slideshow": {
     "slide_type": "slide"
    }
   },
   "source": [
    "<img alt=\"wikidata uk companies most common instances\" src=\"assets/wikidata_uk_companies_most_common_instances.png\" style=\"width: 90%; height: 90%;\" />"
   ]
  },
  {
   "cell_type": "markdown",
   "metadata": {
    "slideshow": {
     "slide_type": "slide"
    }
   },
   "source": [
    "# Analyzing Websites Regionally"
   ]
  },
  {
   "cell_type": "markdown",
   "metadata": {
    "slideshow": {
     "slide_type": "fragment"
    }
   },
   "source": [
    "<blockquote class=\"twitter-tweet\" data-lang=\"en-gb\"><p lang=\"en\" dir=\"ltr\">I like how everyone is saying that jQuery is dead and at the same time - it powers 70% of the Web</p>&mdash; Tomasz Łakomy (@tlakomy) <a href=\"https://twitter.com/tlakomy/status/1141327543699726336?ref_src=twsrc%5Etfw\">19 June 2019</a></blockquote>\n",
    "<script async src=\"https://platform.twitter.com/widgets.js\" charset=\"utf-8\"></script>"
   ]
  },
  {
   "cell_type": "markdown",
   "metadata": {
    "slideshow": {
     "slide_type": "slide"
    }
   },
   "source": [
    "<img alt=\"websites percentage jquery histogram\" src=\"assets/websites_percentage_jquery_histogram.png\" style=\"width: 90%; height: 90%;\" />"
   ]
  },
  {
   "cell_type": "markdown",
   "metadata": {
    "slideshow": {
     "slide_type": "slide"
    }
   },
   "source": [
    "<img alt=\"websites percentage jquery\" src=\"assets/websites_percentage_jquery.png\" style=\"width: 90%; height: 90%;\" />"
   ]
  },
  {
   "cell_type": "markdown",
   "metadata": {
    "slideshow": {
     "slide_type": "slide"
    }
   },
   "source": [
    "<img alt=\"websites percentage jquery\" src=\"assets/websites_percentage_jquery_lisa_clusters.png\" />"
   ]
  },
  {
   "cell_type": "markdown",
   "metadata": {
    "slideshow": {
     "slide_type": "slide"
    }
   },
   "source": [
    "# Classifying Countries and Regions with OSM\n",
    "\n",
    "- Using counts of various amenities as signatures for regions\n",
    "- [osm.janakiev.com](https://osm.janakiev.com/)"
   ]
  },
  {
   "cell_type": "markdown",
   "metadata": {
    "slideshow": {
     "slide_type": "fragment"
    }
   },
   "source": [
    "![OSM Data Science](assets/osm_data_science.png)"
   ]
  },
  {
   "cell_type": "markdown",
   "metadata": {
    "slideshow": {
     "slide_type": "slide"
    }
   },
   "source": [
    "# Castle Dossier Map of Switzerland\n",
    "\n",
    "- Thematic maps made with OpenStreetMap, Wikidata, Wikimedia Commons (images) and Wikipedia [castle-map.infs.ch](https://castle-map.infs.ch), [Burgen-Dossier_Schweiz - OSM Wiki](https://wiki.openstreetmap.org/wiki/Burgen-Dossier_Schweiz)\n",
    "- [BLICK sucht die schönsten Schlösser und Burgen der Schweiz](https://www.blick.ch/community/zurueck-ins-mittelalter-blick-sucht-die-schoensten-schloesser-und-burgen-der-schweiz-id15481900.html)"
   ]
  },
  {
   "cell_type": "markdown",
   "metadata": {
    "slideshow": {
     "slide_type": "fragment"
    }
   },
   "source": [
    "![castle dossier map switzerland](assets/castle_dossier_map_switzerland.png)"
   ]
  },
  {
   "cell_type": "markdown",
   "metadata": {
    "slideshow": {
     "slide_type": "slide"
    }
   },
   "source": [
    "# Conclusion"
   ]
  },
  {
   "cell_type": "markdown",
   "metadata": {
    "slideshow": {
     "slide_type": "fragment"
    }
   },
   "source": [
    "- __Naming things is hard__, meaningfully categorizing even harder"
   ]
  },
  {
   "cell_type": "markdown",
   "metadata": {
    "slideshow": {
     "slide_type": "fragment"
    }
   },
   "source": [
    "- Wikidata can tends to show variations in definitions between countries but tends to be consistent within countries (_this hypothesis has not been tested_)"
   ]
  },
  {
   "cell_type": "markdown",
   "metadata": {
    "slideshow": {
     "slide_type": "fragment"
    }
   },
   "source": [
    "- __Wittgensteins ruler:__ [_\"When you use a ruler to measure the table, you are also using the table to measure the ruler.\"_](https://en.wikiquote.org/wiki/Nassim_Nicholas_Taleb), Biased data can tell you more about the people behind the data than the data itself"
   ]
  },
  {
   "cell_type": "markdown",
   "metadata": {
    "slideshow": {
     "slide_type": "fragment"
    }
   },
   "source": [
    "- __Know Thy Data__: Data Provenance and Completeness is crucial for data analysis and prediction"
   ]
  },
  {
   "cell_type": "markdown",
   "metadata": {
    "slideshow": {
     "slide_type": "slide"
    }
   },
   "source": [
    "# Data Completeness"
   ]
  },
  {
   "cell_type": "markdown",
   "metadata": {
    "slideshow": {
     "slide_type": "fragment"
    }
   },
   "source": [
    "### OpenStreetMap\n",
    "\n",
    "- Barrington-Leigh, Christopher, and Adam Millard-Ball. [\"The world’s user-generated road map is more than 80% complete.\"](https://journals.plos.org/plosone/article?id=10.1371/journal.pone.0180698) PloS one 12.8 (2017): e0180698.\n",
    "- [wiki.openstreetmap.org/wiki/Completeness](https://wiki.openstreetmap.org/wiki/Completeness)"
   ]
  },
  {
   "cell_type": "markdown",
   "metadata": {
    "slideshow": {
     "slide_type": "fragment"
    }
   },
   "source": [
    "### Wikidata\n",
    "\n",
    "-  Michael Luggen, Djellel Difallah, Cristina Sarasua, Demartini and Philippe Cudré-Mauroux. [\"How to estimate completeness of classes in Wikidata.\"](https://www.societybyte.swiss/2019/07/05/how-to-estimate-completeness-of-classes-in-wikidata/) Sociebyte. 2019.\n",
    "- Ahmeti, Albin, Simon Razniewski, and Axel Polleres. [\"Assessing the completeness of entities in knowledge bases.\"](https://link.springer.com/chapter/10.1007/978-3-319-70407-4_2) European Semantic Web Conference. Springer, Cham, 2017.\n",
    "- [COOL-WD: A Completeness Tool for Wikidata](http://ceur-ws.org/Vol-1963/paper466.pdf)"
   ]
  },
  {
   "cell_type": "markdown",
   "metadata": {
    "slideshow": {
     "slide_type": "slide"
    }
   },
   "source": [
    "# Data Science with OpenStreetMap and Wikidata\n",
    "\n",
    "### Nikolai Janakiev [@njanakiev](https://twitter.com/njanakiev/)\n",
    "\n",
    "- Slides @ [https://janakiev.com/slides/data-science-osm-wikidata](https://janakiev.com/slides/wikidata-mayors)\n",
    "\n",
    "## Resources\n",
    "\n",
    "- [Wikidata - OpenStreetMap Wiki](https://wiki.openstreetmap.org/wiki/Wikidata)\n",
    "- FOSSGIS 2016: [OpenStreetMap und Wikidata](https://www.youtube.com/watch?v=Zcv_7t7RcNM) - Michael Maier\n",
    "- FOSDEM 2019: [Linking OpenStreetMap and Wikidata A semi-automated, user-assisted editing tool](https://www.youtube.com/watch?v=UWcZ1WKXHNo) - Edward Betts\n",
    "- [WDTools](https://github.com/njanakiev/wdtools) - Wikidata Utilities and Tools"
   ]
  }
 ],
 "metadata": {
  "celltoolbar": "Slideshow",
  "kernelspec": {
   "display_name": "Python 3",
   "language": "python",
   "name": "python3"
  },
  "language_info": {
   "codemirror_mode": {
    "name": "ipython",
    "version": 3
   },
   "file_extension": ".py",
   "mimetype": "text/x-python",
   "name": "python",
   "nbconvert_exporter": "python",
   "pygments_lexer": "ipython3",
   "version": "3.6.3"
  }
 },
 "nbformat": 4,
 "nbformat_minor": 2
}

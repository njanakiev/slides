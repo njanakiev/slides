{
 "cells": [
  {
   "cell_type": "markdown",
   "metadata": {
    "slideshow": {
     "slide_type": "slide"
    }
   },
   "source": [
    "# Scalable Geospatial (Vector) Data Science\n",
    "\n",
    "### Nikolai Janakiev [@njanakiev](https://github.com/njanakiev)\n",
    "\n",
    "- Slides - [janakiev.com/slides/scalable-geospatial-data-science](https://janakiev.com/slides/scalable-geospatial-data-science)\n",
    "- Repository - [github.com/njanakiev/scalable-geospatial-data-science](https://github.com/njanakiev/scalable-geospatial-data-science)"
   ]
  },
  {
   "cell_type": "markdown",
   "metadata": {
    "slideshow": {
     "slide_type": "slide"
    }
   },
   "source": [
    "# (Geospatial) Big Data"
   ]
  },
  {
   "cell_type": "markdown",
   "metadata": {
    "slideshow": {
     "slide_type": "fragment"
    }
   },
   "source": [
    "### OpenStreetMap\n",
    "\n",
    "- __6,140,639,049__ nodes\n",
    "- __677,822,881__ ways\n",
    "- __7,940,285__ relations\n",
    "\n",
    "[www.openstreetmap.org/stats/data_stats.html](https://www.openstreetmap.org/stats/data_stats.html)"
   ]
  },
  {
   "cell_type": "markdown",
   "metadata": {
    "slideshow": {
     "slide_type": "skip"
    }
   },
   "source": [
    "### NYC Taxi & Limousine Commission\n",
    "\n",
    "- __1.5 billion__ rows (__50 GB__) from 2009 to 2018\n",
    "\n",
    "[azure.microsoft.com/en-us/services/open-datasets/catalog/nyc-taxi-limousine-commission-yellow-taxi-trip-records/](https://azure.microsoft.com/en-us/services/open-datasets/catalog/nyc-taxi-limousine-commission-yellow-taxi-trip-records/)"
   ]
  },
  {
   "cell_type": "markdown",
   "metadata": {
    "slideshow": {
     "slide_type": "slide"
    }
   },
   "source": [
    "![PostgreSQL](assets/postgresql.jpeg)"
   ]
  },
  {
   "cell_type": "markdown",
   "metadata": {
    "slideshow": {
     "slide_type": "slide"
    }
   },
   "source": [
    "# PostgreSQL and PostGIS"
   ]
  },
  {
   "cell_type": "markdown",
   "metadata": {
    "slideshow": {
     "slide_type": "fragment"
    }
   },
   "source": [
    "### PostgreSQL Parallelization\n",
    "\n",
    "- Since __PostgreSQL 9.6__ (2016)\n",
    "- Enabled by default since __PostgreSQL 10__ (2017)"
   ]
  },
  {
   "cell_type": "markdown",
   "metadata": {
    "slideshow": {
     "slide_type": "fragment"
    }
   },
   "source": [
    "### PostGIS Parallelization\n",
    "\n",
    "- With tweaks since __PostgreSQL 11__ and __PostGIS 2.5__ \n",
    "- Out of the box since __PostgreSQL 12__ and __PostGIS 3__"
   ]
  },
  {
   "cell_type": "markdown",
   "metadata": {
    "slideshow": {
     "slide_type": "slide"
    }
   },
   "source": [
    "# Scaling PostgreSQL"
   ]
  },
  {
   "cell_type": "markdown",
   "metadata": {
    "slideshow": {
     "slide_type": "fragment"
    }
   },
   "source": [
    "### Columnar Storage (Foreign Data Wrapper)\n",
    "\n",
    "- cstore_fdw - [citusdata.github.io/cstore_fdw/](https://citusdata.github.io/cstore_fdw/)"
   ]
  },
  {
   "cell_type": "markdown",
   "metadata": {
    "slideshow": {
     "slide_type": "fragment"
    }
   },
   "source": [
    "### GPU Processing\n",
    "\n",
    "- PG-Strom - [heterodb.github.io/pg-strom](http://heterodb.github.io/pg-strom/)"
   ]
  },
  {
   "cell_type": "markdown",
   "metadata": {
    "slideshow": {
     "slide_type": "fragment"
    }
   },
   "source": [
    "### Distributed PostgreSQL\n",
    "\n",
    "- CitusDB - [github.com/citusdata/citus](https://github.com/citusdata/citus)\n",
    "- Postgres-XL - [www.postgres-xl.org](https://www.postgres-xl.org/)"
   ]
  },
  {
   "cell_type": "markdown",
   "metadata": {
    "slideshow": {
     "slide_type": "slide"
    }
   },
   "source": [
    "![Hadoop](assets/hadoop.png)"
   ]
  },
  {
   "cell_type": "markdown",
   "metadata": {
    "slideshow": {
     "slide_type": "slide"
    }
   },
   "source": [
    "# Apache Hadoop"
   ]
  },
  {
   "cell_type": "markdown",
   "metadata": {
    "slideshow": {
     "slide_type": "fragment"
    }
   },
   "source": [
    "- __2003__ Google - [The Google File System](https://static.googleusercontent.com/media/research.google.com/en//archive/gfs-sosp2003.pdf)"
   ]
  },
  {
   "cell_type": "markdown",
   "metadata": {
    "slideshow": {
     "slide_type": "fragment"
    }
   },
   "source": [
    "- __2004__ Google - [MapReduce: Simplified Data Processing on Large Clusters](https://static.usenix.org/publications/library/proceedings/osdi04/tech/full_papers/dean/dean.pdf)"
   ]
  },
  {
   "cell_type": "markdown",
   "metadata": {
    "slideshow": {
     "slide_type": "fragment"
    }
   },
   "source": [
    "- __2006__ Apache Nutch - Hadoop"
   ]
  },
  {
   "cell_type": "markdown",
   "metadata": {
    "slideshow": {
     "slide_type": "fragment"
    }
   },
   "source": [
    "- __2007__ Used by Facebook, LinkedIn, Twitter, among others"
   ]
  },
  {
   "cell_type": "markdown",
   "metadata": {
    "slideshow": {
     "slide_type": "fragment"
    }
   },
   "source": [
    "- __2008__ Apache Foundation Project"
   ]
  },
  {
   "cell_type": "markdown",
   "metadata": {
    "slideshow": {
     "slide_type": "slide"
    }
   },
   "source": [
    "# Apache Hadoop"
   ]
  },
  {
   "cell_type": "markdown",
   "metadata": {
    "slideshow": {
     "slide_type": "fragment"
    }
   },
   "source": [
    "### Hadoop Distributed File System (HDFS)\n",
    "\n",
    "- __2003__ Google - [The Google File System](https://static.googleusercontent.com/media/research.google.com/en//archive/gfs-sosp2003.pdf)"
   ]
  },
  {
   "cell_type": "markdown",
   "metadata": {
    "slideshow": {
     "slide_type": "fragment"
    }
   },
   "source": [
    "### Hadoop MapReduce\n",
    "\n",
    "- __2004__ Google - [MapReduce: Simplified Data Processing on Large Clusters](https://static.usenix.org/publications/library/proceedings/osdi04/tech/full_papers/dean/dean.pdf)"
   ]
  },
  {
   "cell_type": "markdown",
   "metadata": {
    "slideshow": {
     "slide_type": "fragment"
    }
   },
   "source": [
    "### Hadoop YARN"
   ]
  },
  {
   "cell_type": "markdown",
   "metadata": {
    "slideshow": {
     "slide_type": "slide"
    }
   },
   "source": [
    "# Apache Spark"
   ]
  },
  {
   "cell_type": "markdown",
   "metadata": {
    "slideshow": {
     "slide_type": "fragment"
    }
   },
   "source": [
    "- Created 2009, open sourced 2010"
   ]
  },
  {
   "cell_type": "markdown",
   "metadata": {
    "slideshow": {
     "slide_type": "fragment"
    }
   },
   "source": [
    "- __2010__ - [Spark: Cluster Computing with Working Sets](https://www.usenix.org/legacy/event/hotcloud10/tech/full_papers/Zaharia.pdf)"
   ]
  },
  {
   "cell_type": "markdown",
   "metadata": {
    "slideshow": {
     "slide_type": "fragment"
    }
   },
   "source": [
    "- distributed computation engine, written in Scala, with bindings for Java, Python, and R"
   ]
  },
  {
   "cell_type": "markdown",
   "metadata": {
    "slideshow": {
     "slide_type": "slide"
    }
   },
   "source": [
    "# GeoMesa ([geomesa.org](https://www.geomesa.org/))\n",
    "\n",
    "- [LocationTech](https://locationtech.org) under the Eclipse Foundation"
   ]
  },
  {
   "cell_type": "markdown",
   "metadata": {
    "slideshow": {
     "slide_type": "fragment"
    }
   },
   "source": [
    "### Spatial Indexing\n",
    "\n",
    "- Space Filling Curve (2d/3d) - [Index Overview](https://www.geomesa.org/documentation/user/datastores/index_overview.html)"
   ]
  },
  {
   "cell_type": "markdown",
   "metadata": {
    "slideshow": {
     "slide_type": "fragment"
    }
   },
   "source": [
    "### Database\n",
    "\n",
    "- [Apache Accumulo](https://accumulo.apache.org/)\n",
    "- [Apache HBase](https://hbase.apache.org/)\n",
    "- [Apache Cassandra](https://cassandra.apache.org/)"
   ]
  },
  {
   "cell_type": "markdown",
   "metadata": {
    "slideshow": {
     "slide_type": "fragment"
    }
   },
   "source": [
    "### Integrations\n",
    "\n",
    "- [Apache Spark](http://spark.apache.org/) RDD/SQL Interface\n",
    "- GeoServer Integration"
   ]
  },
  {
   "cell_type": "markdown",
   "metadata": {
    "slideshow": {
     "slide_type": "slide"
    }
   },
   "source": [
    "# Beyond the Elephants"
   ]
  },
  {
   "cell_type": "markdown",
   "metadata": {
    "slideshow": {
     "slide_type": "slide"
    }
   },
   "source": [
    "# Presto ([prestodb.io](https://prestodb.io/)) or Trino ([trino.io](https://trino.io/))\n",
    "\n",
    "- Distributed SQL Query Engine for Big Data"
   ]
  },
  {
   "cell_type": "markdown",
   "metadata": {
    "slideshow": {
     "slide_type": "fragment"
    }
   },
   "source": [
    "- [Presto Connectors](https://prestodb.io/docs/current/connector.html) - connectors to most common SQL and NoSQL databases"
   ]
  },
  {
   "cell_type": "markdown",
   "metadata": {
    "slideshow": {
     "slide_type": "fragment"
    }
   },
   "source": [
    "- [Geospatial Functions](https://prestodb.io/docs/current/functions/geospatial.html) - various common `ST_` functions available, uses __RTree__ indexing [Issue #13079](https://github.com/prestodb/presto/pull/13079) for spatial joins"
   ]
  },
  {
   "cell_type": "markdown",
   "metadata": {
    "slideshow": {
     "slide_type": "slide"
    }
   },
   "source": [
    "# Dask ([dask.org](https://dask.org/))\n",
    "\n",
    "- Parallel and distributed computing library for analytics written in Python"
   ]
  },
  {
   "cell_type": "markdown",
   "metadata": {
    "slideshow": {
     "slide_type": "fragment"
    }
   },
   "source": [
    "# GeoPandas ([geopandas.org](https://geopandas.org/))\n",
    "\n",
    "- Extends the datatypes used by [Pandas](https://pandas.pydata.org/) to allow spatial operations on geometric types"
   ]
  },
  {
   "cell_type": "markdown",
   "metadata": {
    "slideshow": {
     "slide_type": "fragment"
    }
   },
   "source": [
    "- [rtree](https://github.com/Toblerity/rtree) - Spatial index for Python GIS"
   ]
  },
  {
   "cell_type": "markdown",
   "metadata": {
    "slideshow": {
     "slide_type": "fragment"
    }
   },
   "source": [
    "- (Experimental) [geopandas/dask-geopandas](https://github.com/geopandas/dask-geopandas) - New implementation of GeoPandas and Dask"
   ]
  },
  {
   "cell_type": "markdown",
   "metadata": {
    "slideshow": {
     "slide_type": "slide"
    }
   },
   "source": [
    "# ElasticSearch ([elastic.co](https://www.elastic.co/))"
   ]
  },
  {
   "cell_type": "markdown",
   "metadata": {
    "slideshow": {
     "slide_type": "fragment"
    }
   },
   "source": [
    "### [Geo Point Indexing](https://www.elastic.co/guide/en/elasticsearch/reference/current/geo-point.html)\n",
    "\n",
    "- GeohashPrefixTree\n",
    "- QuadPrefixTree\n",
    "- BKD-trees (since ES 6.0) - [BKD-backed geo_shapes in Elasticsearch: precision + efficiency + speed](https://www.elastic.co/blog/bkd-backed-geo-shapes-in-elasticsearch-precision-efficiency-speed) (2019)"
   ]
  },
  {
   "cell_type": "markdown",
   "metadata": {
    "slideshow": {
     "slide_type": "fragment"
    }
   },
   "source": [
    "### [Geo queries](https://www.elastic.co/guide/en/elasticsearch/reference/current/geo-queries.html)\n",
    "\n",
    "- `geo_bounding_box` query\n",
    "- `geo_distance` query\n",
    "- `geo_polygon` query\n",
    "- `geo_shape` query"
   ]
  },
  {
   "cell_type": "markdown",
   "metadata": {
    "slideshow": {
     "slide_type": "slide"
    }
   },
   "source": [
    "# MongoDB ([mongodb.com](https://www.mongodb.com/))\n",
    "\n",
    "- Document-oriented NoSQL database which uses JSON-like documents with optional schemas"
   ]
  },
  {
   "cell_type": "markdown",
   "metadata": {
    "slideshow": {
     "slide_type": "fragment"
    }
   },
   "source": [
    "### Geospatial Index\n",
    "\n",
    "- [GeoJSON Object](https://docs.mongodb.com/manual/reference/geojson/)\n",
    "- [2d Index](https://docs.mongodb.com/manual/core/2d/), [2d Index Internals](https://docs.mongodb.com/manual/core/geospatial-indexes/) - Uses GeoHash Indexing\n",
    "- [2d Sphere Index](https://docs.mongodb.com/manual/core/2dsphere/)\n",
    "- [geoHaystack Indexes](https://docs.mongodb.com/manual/core/geohaystack/) - Special index that is optimized to return results over small areas"
   ]
  },
  {
   "cell_type": "markdown",
   "metadata": {
    "slideshow": {
     "slide_type": "fragment"
    }
   },
   "source": [
    "### [Geospatial Queries](https://docs.mongodb.com/manual/geospatial-queries/)\n",
    "\n",
    "- `$geoIntersects`\n",
    "- `$geoWithin`\n",
    "- `$near`\n",
    "- `$nearSphere`\n",
    "- `$geoNear`"
   ]
  },
  {
   "cell_type": "markdown",
   "metadata": {
    "slideshow": {
     "slide_type": "slide"
    }
   },
   "source": [
    "# Redis ([redis.io](https://redis.io/))\n",
    "\n",
    "- in-memory data structure store, used as a database, cache and message broker"
   ]
  },
  {
   "cell_type": "markdown",
   "metadata": {
    "slideshow": {
     "slide_type": "fragment"
    }
   },
   "source": [
    "### Geospatial Indexing\n",
    "\n",
    "- [Geohash](https://en.wikipedia.org/wiki/Geohash) Indexing"
   ]
  },
  {
   "cell_type": "markdown",
   "metadata": {
    "slideshow": {
     "slide_type": "fragment"
    }
   },
   "source": [
    "### [Geospatial Commands](https://redislabs.com/redis-best-practices/indexing-patterns/geospatial/)\n",
    "- [GEOADD](https://redis.io/commands/geoadd)\n",
    "- [GEOHASH](https://redis.io/commands/geohash)\n",
    "- [GEODIST](https://redis.io/commands/geodist)\n",
    "- [GEORADIUS](https://redis.io/commands/georadius)\n",
    "- [GEORADIUSBYMEMBER](https://redis.io/commands/georadiusbymember)"
   ]
  },
  {
   "cell_type": "markdown",
   "metadata": {
    "slideshow": {
     "slide_type": "slide"
    }
   },
   "source": [
    "# Scalable Geospatial Data Science\n",
    "\n",
    "### Nikolai Janakiev [@njanakiev](https://github.com/njanakiev)\n",
    "\n",
    "- Slides - [janakiev.com/slides/scalable-geospatial-data-science](https://janakiev.com/slides/scalable-geospatial-data-science)\n",
    "- Repository - [github.com/njanakiev/scalable-geospatial-data-science](https://github.com/njanakiev/scalable-geospatial-data-science)\n",
    "\n",
    "### Resources\n",
    "\n",
    "- Benchmark (2017) - [Benchmarking of Big Data Technologies for Ingesting and Querying Geospatial Datasets](https://www.reply.com/en/topics/big-data-and-analytics/Shared%20Documents/DSTL-Report-Data-Reply-2017.pdf)\n",
    "- MDPI 2020 - [State-of-the-Art Geospatial Information Processing in NoSQL Databases](https://www.mdpi.com/2220-9964/9/5/331/pdf)\n",
    "- [Summary of the 1.1 Billion Taxi Rides Benchmarks](https://tech.marksblogg.com/benchmarks.html)"
   ]
  }
 ],
 "metadata": {
  "celltoolbar": "Slideshow",
  "kernelspec": {
   "display_name": "Python 3",
   "language": "python",
   "name": "python3"
  },
  "language_info": {
   "codemirror_mode": {
    "name": "ipython",
    "version": 3
   },
   "file_extension": ".py",
   "mimetype": "text/x-python",
   "name": "python",
   "nbconvert_exporter": "python",
   "pygments_lexer": "ipython3",
   "version": "3.7.4"
  }
 },
 "nbformat": 4,
 "nbformat_minor": 2
}
